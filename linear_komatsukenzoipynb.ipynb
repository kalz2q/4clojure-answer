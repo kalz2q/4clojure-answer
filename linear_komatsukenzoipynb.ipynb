{
  "nbformat": 4,
  "nbformat_minor": 0,
  "metadata": {
    "colab": {
      "name": "linear_komatsukenzoipynb",
      "provenance": [],
      "authorship_tag": "ABX9TyNDDS6akvX9oH612VFh/3bP",
      "include_colab_link": true
    },
    "kernelspec": {
      "name": "python3",
      "display_name": "Python 3"
    },
    "language_info": {
      "name": "python"
    }
  },
  "cells": [
    {
      "cell_type": "markdown",
      "metadata": {
        "id": "view-in-github",
        "colab_type": "text"
      },
      "source": [
        "<a href=\"https://colab.research.google.com/github/kalz2q/4clojure-answer/blob/master/linear_komatsukenzoipynb.ipynb\" target=\"_parent\"><img src=\"https://colab.research.google.com/assets/colab-badge.svg\" alt=\"Open In Colab\"/></a>"
      ]
    },
    {
      "cell_type": "code",
      "metadata": {
        "id": "VBjZDhig1Vjw"
      },
      "source": [
        ""
      ],
      "execution_count": null,
      "outputs": []
    },
    {
      "cell_type": "markdown",
      "metadata": {
        "id": "jJim68GO1a-O"
      },
      "source": [
        "# メモ\n",
        "\n",
        "線形代数千一夜物語\n",
        "\n",
        "小松健三\n",
        "\n",
        "を読む。"
      ]
    },
    {
      "cell_type": "markdown",
      "metadata": {
        "id": "UxxX-PTZ1hwk"
      },
      "source": [
        "ごあいさつ\n",
        "\n",
        "次の 4 次の行列式の値を求めよ。\n",
        "\n",
        "$\n",
        "\\left|\n",
        "\\begin{array}{cccc}\n",
        "1 & 2 & 3 & 4\\\\\n",
        "2 & 3 & 4 & 1\\\\\n",
        "3 & 4 & 1 & 2\\\\\n",
        "4 & 1 & 2 & 3\n",
        "\\end{array}\n",
        "\\right|\n",
        "$\n"
      ]
    },
    {
      "cell_type": "markdown",
      "metadata": {
        "id": "sSTb1GVb4BON"
      },
      "source": [
        "行和が等しいケースなので、第 1 列に他の列を加えて共通因子の 10 をくくり出し、あとは吐き出しと展開によって、答えは 160\n",
        "\n",
        "とある。"
      ]
    },
    {
      "cell_type": "code",
      "metadata": {
        "colab": {
          "base_uri": "https://localhost:8080/"
        },
        "id": "NJ91eyuW4VLj",
        "outputId": "ade3d7d1-c2b7-4259-aed6-19d64217dff5"
      },
      "source": [
        "import numpy as np\n",
        "A = np.matrix([[1,2,3,4],\n",
        "[2,3,4,1],\n",
        "[3,4,1,2],\n",
        "[4,1,2,3]])\n",
        "print(A)\n",
        "print(np.linalg.det(A))"
      ],
      "execution_count": 4,
      "outputs": [
        {
          "output_type": "stream",
          "text": [
            "[[1 2 3 4]\n",
            " [2 3 4 1]\n",
            " [3 4 1 2]\n",
            " [4 1 2 3]]\n",
            "160.00000000000009\n"
          ],
          "name": "stdout"
        }
      ]
    },
    {
      "cell_type": "markdown",
      "metadata": {
        "id": "iNFJIGsD6VvT"
      },
      "source": [
        "数字だけは出たがよくわからない。\n",
        "\n",
        "sympy でもやってみる。"
      ]
    },
    {
      "cell_type": "code",
      "metadata": {
        "colab": {
          "base_uri": "https://localhost:8080/",
          "height": 118
        },
        "id": "hiAqizY36f2j",
        "outputId": "5d7256cd-4430-4843-b045-6076e72bae6d"
      },
      "source": [
        "from sympy.abc import *\n",
        "from sympy import *\n",
        "A = Matrix([[1,2,3,4],[2,3,4,1],[3,4,1,2],[4,1,2,3]])\n",
        "display(A)\n",
        "display(det(A))"
      ],
      "execution_count": 8,
      "outputs": [
        {
          "output_type": "display_data",
          "data": {
            "text/latex": "$\\displaystyle \\left[\\begin{matrix}1 & 2 & 3 & 4\\\\2 & 3 & 4 & 1\\\\3 & 4 & 1 & 2\\\\4 & 1 & 2 & 3\\end{matrix}\\right]$",
            "text/plain": [
              "Matrix([\n",
              "[1, 2, 3, 4],\n",
              "[2, 3, 4, 1],\n",
              "[3, 4, 1, 2],\n",
              "[4, 1, 2, 3]])"
            ]
          },
          "metadata": {
            "tags": []
          }
        },
        {
          "output_type": "display_data",
          "data": {
            "text/latex": "$\\displaystyle 160$",
            "text/plain": [
              "160"
            ]
          },
          "metadata": {
            "tags": []
          }
        }
      ]
    },
    {
      "cell_type": "code",
      "metadata": {
        "colab": {
          "base_uri": "https://localhost:8080/",
          "height": 79
        },
        "id": "2BI2sTD-75Vc",
        "outputId": "7a1961b7-6d1b-4013-9cde-e81e38bd247c"
      },
      "source": [
        "# 2 x 2 の行列の場合\n",
        "from sympy import *\n",
        "a, b, c, d = symbols('a b c d')\n",
        "A = Matrix([[a, b],[c, d]])\n",
        "display(A)\n",
        "det(A)"
      ],
      "execution_count": 10,
      "outputs": [
        {
          "output_type": "display_data",
          "data": {
            "text/latex": "$\\displaystyle \\left[\\begin{matrix}a & b\\\\c & d\\end{matrix}\\right]$",
            "text/plain": [
              "Matrix([\n",
              "[a, b],\n",
              "[c, d]])"
            ]
          },
          "metadata": {
            "tags": []
          }
        },
        {
          "output_type": "execute_result",
          "data": {
            "text/latex": "$\\displaystyle a d - b c$",
            "text/plain": [
              "a*d - b*c"
            ]
          },
          "metadata": {
            "tags": []
          },
          "execution_count": 10
        }
      ]
    }
  ]
}