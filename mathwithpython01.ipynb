{
  "nbformat": 4,
  "nbformat_minor": 0,
  "metadata": {
    "kernelspec": {
      "display_name": "Python 3",
      "language": "python",
      "name": "python3"
    },
    "language_info": {
      "codemirror_mode": {
        "name": "ipython",
        "version": 3
      },
      "file_extension": ".py",
      "mimetype": "text/x-python",
      "name": "python",
      "nbconvert_exporter": "python",
      "pygments_lexer": "ipython3",
      "version": "3.7.2"
    },
    "toc": {
      "base_numbering": 1,
      "nav_menu": {},
      "number_sections": true,
      "sideBar": true,
      "skip_h1_title": false,
      "title_cell": "Table of Contents",
      "title_sidebar": "Contents",
      "toc_cell": false,
      "toc_position": {},
      "toc_section_display": true,
      "toc_window_display": true
    },
    "colab": {
      "name": "mathwithpython01.ipynb",
      "provenance": [],
      "toc_visible": true,
      "include_colab_link": true
    }
  },
  "cells": [
    {
      "cell_type": "markdown",
      "metadata": {
        "id": "view-in-github",
        "colab_type": "text"
      },
      "source": [
        "<a href=\"https://colab.research.google.com/github/kalz2q/4clojure-answer/blob/master/mathwithpython01.ipynb\" target=\"_parent\"><img src=\"https://colab.research.google.com/assets/colab-badge.svg\" alt=\"Open In Colab\"/></a>"
      ]
    },
    {
      "cell_type": "markdown",
      "metadata": {
        "id": "-nVUdpY1KLjn",
        "colab_type": "text"
      },
      "source": [
        "# メモ\n",
        "\n",
        "1. ハードディスクの中に`mathwithpython.ipynb`というのがあったので、見ているところ。\n",
        "1. `doing math with python`という本があってそれかもしれないが違っているだろう。\n",
        "1. それ以外に参考になりそうなサイトはいろいろある。\n",
        "1. `Colab`でPythonで実験しながら読むことを想定したノートブックとする。\n",
        "1. 本家`SymPy Tutorial` (https://docs.sympy.org/latest/tutorial/index.html#tutorial)\n",
        "1. 入力例で学ぶPython(SymPy)の使い方(入門) (https://pianofisica.hatenablog.com/entry/2019/04/04/183712)"
      ]
    },
    {
      "cell_type": "markdown",
      "metadata": {
        "id": "-_jKK_ntKEyr",
        "colab_type": "text"
      },
      "source": [
        "# sympyとか\n",
        "\n",
        "どうやら、Pythonの数式処理ライブラリー`SymPy`が必要らしい。\n",
        "\n",
        "数式はマークダウンで$\\LaTeX$(`MathJax`)で書くのもありだが、上記のサイト(https://pianofisica.hatenablog.com/entry/2019/04/04/183712) を参考に少し試して見よう。\n"
      ]
    },
    {
      "cell_type": "code",
      "metadata": {
        "id": "sVJNtNWSOcK-",
        "colab_type": "code",
        "colab": {
          "base_uri": "https://localhost:8080/",
          "height": 39
        },
        "outputId": "8a3308f1-6843-4fd3-d749-eda2f61100dc"
      },
      "source": [
        "from sympy import *\n",
        "x = symbols ('x')\n",
        "a = Integral (cos(x) *  exp(x), x)\n",
        "Eq (a, a.doit())"
      ],
      "execution_count": null,
      "outputs": [
        {
          "output_type": "execute_result",
          "data": {
            "text/latex": "$$\\int e^{x} \\cos{\\left (x \\right )}\\, dx = \\frac{e^{x}}{2} \\sin{\\left (x \\right )} + \\frac{e^{x}}{2} \\cos{\\left (x \\right )}$$",
            "text/plain": [
              "⌠                 x           x       \n",
              "⎮  x             ℯ ⋅sin(x)   ℯ ⋅cos(x)\n",
              "⎮ ℯ ⋅cos(x) dx = ───────── + ─────────\n",
              "⌡                    2           2    "
            ]
          },
          "metadata": {
            "tags": []
          },
          "execution_count": 32
        }
      ]
    },
    {
      "cell_type": "markdown",
      "metadata": {
        "id": "tZ8lsdofOlZ_",
        "colab_type": "text"
      },
      "source": [
        "えっと、これは`SymPy Tutorialの最初にある例だが、これからなにがわかるか。\n",
        "\n",
        "1. `from sympy import *` でこれ以降なにも断らずに四則演算をふくめ数学記号がsympyの演算子になっているということか。 => いま `3 / 2` を実行したら、`1.5`ではあるが、出力蘭にセンタリングされて出た。たぶんLaTeXの出力っぽいフォントになっている。\n",
        "1. `x = symbols('x')` はなるほどね。Pythonと共存するので、なんらかの宣言が必要なのはわかる。=> いま `x = 3`とか入れたらそれ以降は`x`は3になって、また`x = symbols('x')`としたら`x`に戻った。\n",
        "3. 式で項の順序は維持されない。` Integral (cos(x) *  exp(x), x)` の `cos(x)`と`exp(x)`は数式表現になったときに順序が逆になって、見やすくなっている。\n",
        "4. `doit()`は数式レベルの計算というか、評価をするのだと思うが、いま`((x + 2) * (x - 2)).doit()`としたら計算してくれなかった。\n"
      ]
    },
    {
      "cell_type": "code",
      "metadata": {
        "id": "uIssI0lTWUe4",
        "colab_type": "code",
        "colab": {
          "base_uri": "https://localhost:8080/",
          "height": 38
        },
        "outputId": "e9fa6639-ab29-43bf-fa00-8f69db44a223"
      },
      "source": [
        "((x + 2) * (x - 2)).doit()"
      ],
      "execution_count": null,
      "outputs": [
        {
          "output_type": "execute_result",
          "data": {
            "text/latex": "$$\\left(x - 2\\right) \\left(x + 2\\right)$$",
            "text/plain": [
              "(x - 2)⋅(x + 2)"
            ]
          },
          "metadata": {
            "tags": []
          },
          "execution_count": 40
        }
      ]
    },
    {
      "cell_type": "code",
      "metadata": {
        "id": "Zqxgn_slcPEu",
        "colab_type": "code",
        "colab": {
          "base_uri": "https://localhost:8080/",
          "height": 42
        },
        "outputId": "71f74d33-10a3-4d3f-f47a-d95ad7e0863c"
      },
      "source": [
        "((x**2 - 4) / (x - 2)).doit()"
      ],
      "execution_count": null,
      "outputs": [
        {
          "output_type": "execute_result",
          "data": {
            "text/latex": "$$\\frac{x^{2} - 4}{x - 2}$$",
            "text/plain": [
              " 2    \n",
              "x  - 4\n",
              "──────\n",
              "x - 2 "
            ]
          },
          "metadata": {
            "tags": []
          },
          "execution_count": 42
        }
      ]
    },
    {
      "cell_type": "code",
      "metadata": {
        "id": "O4dfaFcbS7yh",
        "colab_type": "code",
        "colab": {}
      },
      "source": [
        "help(x.doit)"
      ],
      "execution_count": null,
      "outputs": []
    },
    {
      "cell_type": "code",
      "metadata": {
        "id": "qwP32fHLPC-R",
        "colab_type": "code",
        "colab": {
          "base_uri": "https://localhost:8080/",
          "height": 38
        },
        "outputId": "43ceba6e-03c2-4b0a-b61c-3cbef77e7817"
      },
      "source": [
        "Rational (3, 2)"
      ],
      "execution_count": null,
      "outputs": [
        {
          "output_type": "execute_result",
          "data": {
            "text/latex": "$$\\frac{3}{2}$$",
            "text/plain": [
              "3/2"
            ]
          },
          "metadata": {
            "tags": []
          },
          "execution_count": 39
        }
      ]
    },
    {
      "cell_type": "code",
      "metadata": {
        "id": "wUTnTPTdPTU9",
        "colab_type": "code",
        "colab": {
          "base_uri": "https://localhost:8080/",
          "height": 38
        },
        "outputId": "7f73ab45-36ec-40c4-f87b-813ae1098611"
      },
      "source": [
        "sympy.Rational (3, 2)"
      ],
      "execution_count": null,
      "outputs": [
        {
          "output_type": "execute_result",
          "data": {
            "text/latex": "$$\\frac{3}{2}$$",
            "text/plain": [
              "3/2"
            ]
          },
          "metadata": {
            "tags": []
          },
          "execution_count": 18
        }
      ]
    },
    {
      "cell_type": "code",
      "metadata": {
        "id": "MzcOLVAqca9B",
        "colab_type": "code",
        "colab": {
          "base_uri": "https://localhost:8080/",
          "height": 37
        },
        "outputId": "5ae6136e-0a88-43b9-a473-b90b4bda84f4"
      },
      "source": [
        "Rational(8, 4)"
      ],
      "execution_count": null,
      "outputs": [
        {
          "output_type": "execute_result",
          "data": {
            "text/latex": "$$2$$",
            "text/plain": [
              "2"
            ]
          },
          "metadata": {
            "tags": []
          },
          "execution_count": 43
        }
      ]
    },
    {
      "cell_type": "code",
      "metadata": {
        "id": "3iacy_ivdDTz",
        "colab_type": "code",
        "colab": {
          "base_uri": "https://localhost:8080/",
          "height": 37
        },
        "outputId": "69c4c2d1-c912-4b59-bf56-a470c69bd410"
      },
      "source": [
        "sqrt(8)"
      ],
      "execution_count": null,
      "outputs": [
        {
          "output_type": "execute_result",
          "data": {
            "text/latex": "$$2 \\sqrt{2}$$",
            "text/plain": [
              "2⋅√2"
            ]
          },
          "metadata": {
            "tags": []
          },
          "execution_count": 46
        }
      ]
    },
    {
      "cell_type": "markdown",
      "metadata": {
        "id": "BT5-RAguPgJO",
        "colab_type": "text"
      },
      "source": [
        "数式のシンボルを事前に宣言する場合があるみたい。\n",
        "```\n",
        "x, y, z = symbols(\"x y z\")\n",
        "k, m, n = symbols(\"k m n\", integer=True)\n",
        "f, g, h = symbols('f g h', cls=Function)\n",
        "```\n",
        "意味は多分、`x, y, z`は任意の変数、`f, m, n`は整数、`f, g, h`は関数ということだと思うが、`i, j`がないね。"
      ]
    },
    {
      "cell_type": "code",
      "metadata": {
        "id": "G8RMBNUseCJQ",
        "colab_type": "code",
        "colab": {}
      },
      "source": [
        "help(sympy.symbols)"
      ],
      "execution_count": null,
      "outputs": []
    },
    {
      "cell_type": "markdown",
      "metadata": {
        "id": "9JlDRvydwYds",
        "colab_type": "text"
      },
      "source": [
        "いろいろやってみよう。"
      ]
    },
    {
      "cell_type": "code",
      "metadata": {
        "id": "RT39uGnYwcG0",
        "colab_type": "code",
        "colab": {
          "base_uri": "https://localhost:8080/",
          "height": 38
        },
        "outputId": "5a92d062-4ca2-4c75-e425-5b265d601de9"
      },
      "source": [
        "x"
      ],
      "execution_count": null,
      "outputs": [
        {
          "output_type": "execute_result",
          "data": {
            "text/latex": "$$x$$",
            "text/plain": [
              "x"
            ]
          },
          "metadata": {
            "tags": []
          },
          "execution_count": 50
        }
      ]
    },
    {
      "cell_type": "code",
      "metadata": {
        "id": "-BgTh_RMAwS3",
        "colab_type": "code",
        "colab": {
          "base_uri": "https://localhost:8080/",
          "height": 37
        },
        "outputId": "b22b7888-6cb7-479e-927c-a343de006605"
      },
      "source": [
        "sqrt(8)\n"
      ],
      "execution_count": null,
      "outputs": [
        {
          "output_type": "execute_result",
          "data": {
            "text/latex": "$$2 \\sqrt{2}$$",
            "text/plain": [
              "2⋅√2"
            ]
          },
          "metadata": {
            "tags": []
          },
          "execution_count": 51
        }
      ]
    },
    {
      "cell_type": "code",
      "metadata": {
        "id": "KQ06scCpBAud",
        "colab_type": "code",
        "colab": {
          "base_uri": "https://localhost:8080/",
          "height": 38
        },
        "outputId": "16ac8f1c-2427-4456-85bc-13f24d977355"
      },
      "source": [
        "exp(1)"
      ],
      "execution_count": null,
      "outputs": [
        {
          "output_type": "execute_result",
          "data": {
            "text/latex": "$$e$$",
            "text/plain": [
              "ℯ"
            ]
          },
          "metadata": {
            "tags": []
          },
          "execution_count": 53
        }
      ]
    },
    {
      "cell_type": "code",
      "metadata": {
        "id": "2aVQr-mNBIHw",
        "colab_type": "code",
        "colab": {
          "base_uri": "https://localhost:8080/",
          "height": 38
        },
        "outputId": "08099fa7-6722-436c-c23e-a700f7a043b1"
      },
      "source": [
        "log(x)"
      ],
      "execution_count": null,
      "outputs": [
        {
          "output_type": "execute_result",
          "data": {
            "text/latex": "$$\\log{\\left (x \\right )}$$",
            "text/plain": [
              "log(x)"
            ]
          },
          "metadata": {
            "tags": []
          },
          "execution_count": 56
        }
      ]
    },
    {
      "cell_type": "code",
      "metadata": {
        "id": "iORpSFzJB38F",
        "colab_type": "code",
        "colab": {
          "base_uri": "https://localhost:8080/",
          "height": 38
        },
        "outputId": "6bc154f3-2912-431b-ea19-dbc5a1038bca"
      },
      "source": [
        "I"
      ],
      "execution_count": null,
      "outputs": [
        {
          "output_type": "execute_result",
          "data": {
            "text/latex": "$$i$$",
            "text/plain": [
              "ⅈ"
            ]
          },
          "metadata": {
            "tags": []
          },
          "execution_count": 62
        }
      ]
    },
    {
      "cell_type": "code",
      "metadata": {
        "id": "beqDjQCiKEyx",
        "colab_type": "code",
        "colab": {
          "base_uri": "https://localhost:8080/",
          "height": 42
        },
        "outputId": "74a7cd27-4a41-4b4a-deb2-f29079e8f540"
      },
      "source": [
        "Rational(3,2)*pi + exp(I*x) / (x**2 + y)"
      ],
      "execution_count": null,
      "outputs": [
        {
          "output_type": "execute_result",
          "data": {
            "text/latex": "$$\\frac{3 \\pi}{2} + \\frac{e^{i x}}{x^{2} + y}$$",
            "text/plain": [
              "        ⅈ⋅x \n",
              "3⋅π    ℯ    \n",
              "─── + ──────\n",
              " 2     2    \n",
              "      x  + y"
            ]
          },
          "metadata": {
            "tags": []
          },
          "execution_count": 57
        }
      ]
    },
    {
      "cell_type": "code",
      "metadata": {
        "id": "mtfxBHNIKEy5",
        "colab_type": "code",
        "colab": {},
        "outputId": "c18be4bd-2683-43b5-f2ef-f2decdbc36d8"
      },
      "source": [
        "Rational(8/4)"
      ],
      "execution_count": null,
      "outputs": [
        {
          "output_type": "execute_result",
          "data": {
            "text/latex": "$$2$$",
            "text/plain": [
              "2"
            ]
          },
          "metadata": {
            "tags": []
          },
          "execution_count": 3
        }
      ]
    },
    {
      "cell_type": "markdown",
      "metadata": {
        "id": "LVgEUUAJKEy8",
        "colab_type": "text"
      },
      "source": [
        "###### Rational()の中で変数は使えなかった"
      ]
    },
    {
      "cell_type": "code",
      "metadata": {
        "id": "-yA0-lxjKEy9",
        "colab_type": "code",
        "colab": {},
        "outputId": "fff151da-4f24-4c94-da11-27a2a4bc97d3"
      },
      "source": [
        "(x-1)**2 / (x - 1)"
      ],
      "execution_count": null,
      "outputs": [
        {
          "output_type": "execute_result",
          "data": {
            "text/latex": "$$x - 1$$",
            "text/plain": [
              "x - 1"
            ]
          },
          "metadata": {
            "tags": []
          },
          "execution_count": 4
        }
      ]
    },
    {
      "cell_type": "code",
      "metadata": {
        "id": "Hnise3tvCo3L",
        "colab_type": "code",
        "colab": {
          "base_uri": "https://localhost:8080/",
          "height": 38
        },
        "outputId": "a93d03f8-f475-4b3c-c9cd-80dc59484b73"
      },
      "source": [
        "(x - 1) * (x + 1) / (x - 1)"
      ],
      "execution_count": null,
      "outputs": [
        {
          "output_type": "execute_result",
          "data": {
            "text/latex": "$$x + 1$$",
            "text/plain": [
              "x + 1"
            ]
          },
          "metadata": {
            "tags": []
          },
          "execution_count": 67
        }
      ]
    },
    {
      "cell_type": "code",
      "metadata": {
        "id": "Q5_gsTxzCws-",
        "colab_type": "code",
        "colab": {
          "base_uri": "https://localhost:8080/",
          "height": 42
        },
        "outputId": "84cb9440-4aac-4369-cd64-f65f2f1bf584"
      },
      "source": [
        "(x**2 - 1) / (x - 1)"
      ],
      "execution_count": null,
      "outputs": [
        {
          "output_type": "execute_result",
          "data": {
            "text/latex": "$$\\frac{x^{2} - 1}{x - 1}$$",
            "text/plain": [
              " 2    \n",
              "x  - 1\n",
              "──────\n",
              "x - 1 "
            ]
          },
          "metadata": {
            "tags": []
          },
          "execution_count": 68
        }
      ]
    },
    {
      "cell_type": "markdown",
      "metadata": {
        "id": "do4v0KjgKEzA",
        "colab_type": "text"
      },
      "source": [
        "### 数式の割り算とか"
      ]
    },
    {
      "cell_type": "code",
      "metadata": {
        "id": "_Wh5eRApKEzB",
        "colab_type": "code",
        "colab": {},
        "outputId": "46863444-233f-403d-8d66-bb723fb1e3ec"
      },
      "source": [
        "(x**2 - 2 * x + 1) / (x - 1)"
      ],
      "execution_count": null,
      "outputs": [
        {
          "output_type": "execute_result",
          "data": {
            "text/latex": "$$\\frac{x^{2} - 2 x + 1}{x - 1}$$",
            "text/plain": [
              " 2          \n",
              "x  - 2⋅x + 1\n",
              "────────────\n",
              "   x - 1    "
            ]
          },
          "metadata": {
            "tags": []
          },
          "execution_count": 5
        }
      ]
    },
    {
      "cell_type": "markdown",
      "metadata": {
        "id": "5qvsu5ZfKEzE",
        "colab_type": "text"
      },
      "source": [
        "### 自動ではやらない。自動で因数分解して割り算に対応するということはない"
      ]
    },
    {
      "cell_type": "code",
      "metadata": {
        "id": "Mbx4oTQiDSiw",
        "colab_type": "code",
        "colab": {
          "base_uri": "https://localhost:8080/",
          "height": 38
        },
        "outputId": "5a6c38a5-06b5-44e8-ee12-4eb74ecc4d6c"
      },
      "source": [
        "pi"
      ],
      "execution_count": null,
      "outputs": [
        {
          "output_type": "execute_result",
          "data": {
            "text/latex": "$$\\pi$$",
            "text/plain": [
              "π"
            ]
          },
          "metadata": {
            "tags": []
          },
          "execution_count": 71
        }
      ]
    },
    {
      "cell_type": "code",
      "metadata": {
        "id": "9sD_aj6CKEzF",
        "colab_type": "code",
        "colab": {},
        "outputId": "86d81e2d-1fcd-4229-edf9-8d03f4059e69"
      },
      "source": [
        "pi.evalf()"
      ],
      "execution_count": null,
      "outputs": [
        {
          "output_type": "execute_result",
          "data": {
            "text/latex": "$$3.14159265358979$$",
            "text/plain": [
              "3.14159265358979"
            ]
          },
          "metadata": {
            "tags": []
          },
          "execution_count": 6
        }
      ]
    },
    {
      "cell_type": "markdown",
      "metadata": {
        "id": "9VlCDm3MDWef",
        "colab_type": "text"
      },
      "source": [
        "# ヘルプの求め方\n",
        "\n",
        "`evalf()`の例ではｍ`evalf?`とか`evalf??`とかが簡単でよい。\n",
        "\n",
        "`help(evalf)`もある。`help(x.evalf)`もある。"
      ]
    },
    {
      "cell_type": "code",
      "metadata": {
        "id": "JrMwBhcmKEzI",
        "colab_type": "code",
        "colab": {}
      },
      "source": [
        "evalf?\n",
        "# Adaptive numerical evaluation of SymPy expressions, using mpmath\n",
        "# for mathematical functions."
      ],
      "execution_count": null,
      "outputs": []
    },
    {
      "cell_type": "code",
      "metadata": {
        "id": "lVQ9YqoaKEzM",
        "colab_type": "code",
        "colab": {}
      },
      "source": [
        "num = symbols(\"num\")\n",
        "num = 3.5\n",
        "# num.evalf() => エラーになるこういう使い方ではない"
      ],
      "execution_count": null,
      "outputs": []
    },
    {
      "cell_type": "code",
      "metadata": {
        "id": "3oXhpTixKEzP",
        "colab_type": "code",
        "colab": {},
        "outputId": "f975907e-8f99-40ad-b847-8b344379f6b2"
      },
      "source": [
        "exp(1).evalf()"
      ],
      "execution_count": null,
      "outputs": [
        {
          "output_type": "execute_result",
          "data": {
            "text/latex": "$$2.71828182845905$$",
            "text/plain": [
              "2.71828182845905"
            ]
          },
          "metadata": {
            "tags": []
          },
          "execution_count": 8
        }
      ]
    },
    {
      "cell_type": "code",
      "metadata": {
        "id": "RGLYejLvKEzS",
        "colab_type": "code",
        "colab": {},
        "outputId": "b4be0ffd-0a77-4f73-b5ba-e19320f64395"
      },
      "source": [
        "E.evalf()"
      ],
      "execution_count": null,
      "outputs": [
        {
          "output_type": "execute_result",
          "data": {
            "text/latex": "$$2.71828182845905$$",
            "text/plain": [
              "2.71828182845905"
            ]
          },
          "metadata": {
            "tags": []
          },
          "execution_count": 9
        }
      ]
    },
    {
      "cell_type": "code",
      "metadata": {
        "id": "AUNzk8D3KEzX",
        "colab_type": "code",
        "colab": {},
        "outputId": "5acc29b3-c7fa-4753-beae-89cf83c13a92"
      },
      "source": [
        "-oo.evalf()"
      ],
      "execution_count": null,
      "outputs": [
        {
          "output_type": "execute_result",
          "data": {
            "text/latex": "$$- \\infty$$",
            "text/plain": [
              "-inf"
            ]
          },
          "metadata": {
            "tags": []
          },
          "execution_count": 10
        }
      ]
    },
    {
      "cell_type": "code",
      "metadata": {
        "id": "Lua5RCZSFEWv",
        "colab_type": "code",
        "colab": {
          "base_uri": "https://localhost:8080/",
          "height": 38
        },
        "outputId": "de610f00-4a32-4dc9-c6b2-034d14fdefe2"
      },
      "source": [
        "x + 2 * y"
      ],
      "execution_count": null,
      "outputs": [
        {
          "output_type": "execute_result",
          "data": {
            "text/latex": "$$x + 2 y$$",
            "text/plain": [
              "x + 2⋅y"
            ]
          },
          "metadata": {
            "tags": []
          },
          "execution_count": 85
        }
      ]
    },
    {
      "cell_type": "code",
      "metadata": {
        "id": "IVpOJGQ9FTnK",
        "colab_type": "code",
        "colab": {
          "base_uri": "https://localhost:8080/",
          "height": 38
        },
        "outputId": "72542587-1685-461f-f3b5-d37916febfaf"
      },
      "source": [
        "expr = x + 2 * y\n",
        "expr"
      ],
      "execution_count": null,
      "outputs": [
        {
          "output_type": "execute_result",
          "data": {
            "text/latex": "$$x + 2 y$$",
            "text/plain": [
              "x + 2⋅y"
            ]
          },
          "metadata": {
            "tags": []
          },
          "execution_count": 86
        }
      ]
    },
    {
      "cell_type": "code",
      "metadata": {
        "id": "GO21kTi9Faix",
        "colab_type": "code",
        "colab": {
          "base_uri": "https://localhost:8080/",
          "height": 38
        },
        "outputId": "de6732de-7bee-4596-e2bb-890293479984"
      },
      "source": [
        "expr  - x + 1"
      ],
      "execution_count": null,
      "outputs": [
        {
          "output_type": "execute_result",
          "data": {
            "text/latex": "$$2 y + 1$$",
            "text/plain": [
              "2⋅y + 1"
            ]
          },
          "metadata": {
            "tags": []
          },
          "execution_count": 88
        }
      ]
    },
    {
      "cell_type": "code",
      "metadata": {
        "id": "kL310xv8FmWh",
        "colab_type": "code",
        "colab": {
          "base_uri": "https://localhost:8080/",
          "height": 38
        },
        "outputId": "d8d74c2d-ad8d-49a5-f78e-5154136c585e"
      },
      "source": [
        "x * expr"
      ],
      "execution_count": null,
      "outputs": [
        {
          "output_type": "execute_result",
          "data": {
            "text/latex": "$$x \\left(x + 2 y\\right)$$",
            "text/plain": [
              "x⋅(x + 2⋅y)"
            ]
          },
          "metadata": {
            "tags": []
          },
          "execution_count": 89
        }
      ]
    },
    {
      "cell_type": "markdown",
      "metadata": {
        "id": "znIgM64DFs1D",
        "colab_type": "text"
      },
      "source": [
        "# 式の簡素化\n",
        "\n",
        "`simplification`というのか。自動でやられるのはごく単純な場合だけ。\n",
        "\n",
        "sympyに`expand`と`factor`という関数がある。"
      ]
    },
    {
      "cell_type": "code",
      "metadata": {
        "id": "Qw6eL_b6Kmg8",
        "colab_type": "code",
        "colab": {
          "base_uri": "https://localhost:8080/",
          "height": 38
        },
        "outputId": "58a88342-66f0-4040-e4fa-7e2656f504c2"
      },
      "source": [
        "from sympy import *\n",
        "init_printing(use_unicode=True)\n",
        "x, y = symbols('x y')\n",
        "expr = x + 2 * y\n",
        "expand(x * expr)\n",
        "factor (expand (x * expr))"
      ],
      "execution_count": 16,
      "outputs": [
        {
          "output_type": "execute_result",
          "data": {
            "image/png": "[encoded data removed]",
            "text/latex": "$$x \\left(x + 2 y\\right)$$",
            "text/plain": [
              "x⋅(x + 2⋅y)"
            ]
          },
          "metadata": {
            "tags": []
          },
          "execution_count": 16
        }
      ]
    },
    {
      "cell_type": "code",
      "metadata": {
        "id": "ZMMsM-OhLrUw",
        "colab_type": "code",
        "colab": {
          "base_uri": "https://localhost:8080/",
          "height": 38
        },
        "outputId": "384d4d8b-749a-4b12-ea6a-d29d6521efa5"
      },
      "source": [
        "init_printing(use_unicode=True)\n",
        "expr = (x ** 2 - 4) / (x - 2)\n",
        "factor (expr)"
      ],
      "execution_count": 15,
      "outputs": [
        {
          "output_type": "execute_result",
          "data": {
            "image/png": "[encoded data removed]",
            "text/latex": "$$x + 2$$",
            "text/plain": [
              "x + 2"
            ]
          },
          "metadata": {
            "tags": []
          },
          "execution_count": 15
        }
      ]
    },
    {
      "cell_type": "markdown",
      "metadata": {
        "id": "x88L7hVGGKVn",
        "colab_type": "text"
      },
      "source": [
        "# いまここ"
      ]
    },
    {
      "cell_type": "code",
      "metadata": {
        "id": "lIhZzXskMO82",
        "colab_type": "code",
        "colab": {
          "base_uri": "https://localhost:8080/",
          "height": 38
        },
        "outputId": "df55f7cc-ba28-456e-c20a-e3eb47d45e93"
      },
      "source": [
        "from sympy import *\n",
        "init_printing(use_unicode=True)\n",
        "x, t, z, nu = symbols ('x t z nu')\n",
        "\n",
        "expr = sin (x) * exp(x)\n",
        "expr"
      ],
      "execution_count": 18,
      "outputs": [
        {
          "output_type": "execute_result",
          "data": {
            "image/png": "[encoded data removed]",
            "text/latex": "$$e^{x} \\sin{\\left (x \\right )}$$",
            "text/plain": [
              " x       \n",
              "ℯ ⋅sin(x)"
            ]
          },
          "metadata": {
            "tags": []
          },
          "execution_count": 18
        }
      ]
    },
    {
      "cell_type": "code",
      "metadata": {
        "id": "SpYt38qjMyAJ",
        "colab_type": "code",
        "colab": {
          "base_uri": "https://localhost:8080/",
          "height": 38
        },
        "outputId": "40670de3-63f2-4747-9e84-c3fd06ea3d61"
      },
      "source": [
        "diff(expr, x)"
      ],
      "execution_count": 21,
      "outputs": [
        {
          "output_type": "execute_result",
          "data": {
            "image/png": "[encoded data removed]",
            "text/latex": "$$e^{x} \\sin{\\left (x \\right )} + e^{x} \\cos{\\left (x \\right )}$$",
            "text/plain": [
              " x           x       \n",
              "e *sin(x) + e *cos(x)"
            ]
          },
          "metadata": {
            "tags": []
          },
          "execution_count": 21
        }
      ]
    },
    {
      "cell_type": "code",
      "metadata": {
        "id": "BejD_4pWM4Kv",
        "colab_type": "code",
        "colab": {
          "base_uri": "https://localhost:8080/",
          "height": 38
        },
        "outputId": "9125cf96-8d4b-4480-daaa-3041961636e1"
      },
      "source": [
        "integrate (exp(x)*sin(x) + exp(x)*cos(x))"
      ],
      "execution_count": 22,
      "outputs": [
        {
          "output_type": "execute_result",
          "data": {
            "image/png": "[encoded data removed]",
            "text/latex": "$$e^{x} \\sin{\\left (x \\right )}$$",
            "text/plain": [
              " x       \n",
              "e *sin(x)"
            ]
          },
          "metadata": {
            "tags": []
          },
          "execution_count": 22
        }
      ]
    },
    {
      "cell_type": "code",
      "metadata": {
        "id": "1_Y5u_WDNV1T",
        "colab_type": "code",
        "colab": {
          "base_uri": "https://localhost:8080/",
          "height": 38
        },
        "outputId": "cd814e4d-f3dd-458d-b170-b98aa97da07c"
      },
      "source": [
        "integrate (exp(x)*(sin(x) + cos(x)))"
      ],
      "execution_count": 24,
      "outputs": [
        {
          "output_type": "execute_result",
          "data": {
            "image/png": "[encoded data removed]",
            "text/latex": "$$e^{x} \\sin{\\left (x \\right )}$$",
            "text/plain": [
              " x       \n",
              "e *sin(x)"
            ]
          },
          "metadata": {
            "tags": []
          },
          "execution_count": 24
        }
      ]
    },
    {
      "cell_type": "code",
      "metadata": {
        "id": "OWMFe2XINlVG",
        "colab_type": "code",
        "colab": {
          "base_uri": "https://localhost:8080/",
          "height": 42
        },
        "outputId": "6c84a127-73c1-4cab-e092-5ea48e9cf1b8"
      },
      "source": [
        "integrate(sin(x**2), (x, -oo, oo))"
      ],
      "execution_count": 25,
      "outputs": [
        {
          "output_type": "execute_result",
          "data": {
            "image/png": "[encoded data removed]",
            "text/latex": "$$\\frac{\\sqrt{2} \\sqrt{\\pi}}{2}$$",
            "text/plain": [
              "  ___   ____\n",
              "\\/ 2 *\\/ pi \n",
              "------------\n",
              "     2      "
            ]
          },
          "metadata": {
            "tags": []
          },
          "execution_count": 25
        }
      ]
    },
    {
      "cell_type": "code",
      "metadata": {
        "id": "Ao4RLINTOETh",
        "colab_type": "code",
        "colab": {
          "base_uri": "https://localhost:8080/",
          "height": 37
        },
        "outputId": "058e3242-30d7-47ee-e3df-31637d291bbf"
      },
      "source": [
        "limit (sin(x)/x, x, 0)"
      ],
      "execution_count": 27,
      "outputs": [
        {
          "output_type": "execute_result",
          "data": {
            "image/png": "[encoded data removed]",
            "text/latex": "$$1$$",
            "text/plain": [
              "1"
            ]
          },
          "metadata": {
            "tags": []
          },
          "execution_count": 27
        }
      ]
    },
    {
      "cell_type": "markdown",
      "metadata": {
        "id": "crfzDBICKEza",
        "colab_type": "text"
      },
      "source": [
        "###### $ \\sqrt 2 $ を100桁まで計算しましょう\n",
        "って、これまでの知識でできるか？  \n",
        "こういう問題を出すのって教科書が悪いよね。  \n",
        "本文で説明できていないことを練習問題で細くしたい、という気持ちはわかるが独習者を無視している。  \n",
        "ひょっとするとevalf(100)とかか？  \n",
        "とりあえず、$ \\sqrt 2 $ を式にしよう。"
      ]
    },
    {
      "cell_type": "code",
      "metadata": {
        "id": "bq7SWLBMKEzb",
        "colab_type": "code",
        "colab": {},
        "outputId": "ad6fd0a7-71a8-47d0-8ac1-901ed6117f8b"
      },
      "source": [
        "pi.evalf(100)"
      ],
      "execution_count": null,
      "outputs": [
        {
          "output_type": "execute_result",
          "data": {
            "text/latex": "$$3.141592653589793238462643383279502884197169399375105820974944592307816406286208998628034825342117068$$",
            "text/plain": [
              "3.1415926535897932384626433832795028841971693993751058209749445923078164062862\n",
              "08998628034825342117068"
            ]
          },
          "metadata": {
            "tags": []
          },
          "execution_count": 11
        }
      ]
    },
    {
      "cell_type": "code",
      "metadata": {
        "id": "4VLLtLtEKEze",
        "colab_type": "code",
        "colab": {},
        "outputId": "3ac8e32e-0e8f-4aa9-b7da-c6d242119601"
      },
      "source": [
        "2**(1/2)"
      ],
      "execution_count": null,
      "outputs": [
        {
          "output_type": "execute_result",
          "data": {
            "text/latex": "$$1.4142135623730951$$",
            "text/plain": [
              "1.4142135623730951"
            ]
          },
          "metadata": {
            "tags": []
          },
          "execution_count": 12
        }
      ]
    },
    {
      "cell_type": "code",
      "metadata": {
        "id": "8ADHyDNuKEzh",
        "colab_type": "code",
        "colab": {},
        "outputId": "087aad8f-8ef2-4b9d-aa97-aa12d86fa75b"
      },
      "source": [
        "###### 表示だけの問題かも。formatを使ってみよう\n",
        "-> 50桁あたりから先が0になってしまうので失敗"
      ],
      "execution_count": null,
      "outputs": [
        {
          "output_type": "error",
          "ename": "SyntaxError",
          "evalue": "invalid syntax (<ipython-input-13-69b250a05016>, line 2)",
          "traceback": [
            "\u001b[0;36m  File \u001b[0;32m\"<ipython-input-13-69b250a05016>\"\u001b[0;36m, line \u001b[0;32m2\u001b[0m\n\u001b[0;31m    -> 50桁あたりから先が0になってしまうので失敗\u001b[0m\n\u001b[0m     ^\u001b[0m\n\u001b[0;31mSyntaxError\u001b[0m\u001b[0;31m:\u001b[0m invalid syntax\n"
          ]
        }
      ]
    },
    {
      "cell_type": "code",
      "metadata": {
        "id": "LIeJpJlHKEzk",
        "colab_type": "code",
        "colab": {},
        "outputId": "20d52a73-7d2d-4e4e-ff89-569f6f045796"
      },
      "source": [
        "val = 2**(1/2)\n",
        "print(\"{0:.100f}\".format(val))"
      ],
      "execution_count": null,
      "outputs": [
        {
          "output_type": "stream",
          "text": [
            "1.4142135623730951454746218587388284504413604736328125000000000000000000000000000000000000000000000000\n"
          ],
          "name": "stdout"
        }
      ]
    },
    {
      "cell_type": "code",
      "metadata": {
        "id": "pivXMEb3KEzn",
        "colab_type": "code",
        "colab": {},
        "outputId": "efe6bf5a-24b4-47bd-beb3-4f47ab0b3681"
      },
      "source": [
        "# 2**(1/2)はfloatなのでevalf()が使えない。exp表示にする必要がある\n",
        "exp(ln(2) / 2).evalf(100)"
      ],
      "execution_count": null,
      "outputs": [
        {
          "output_type": "execute_result",
          "data": {
            "text/latex": "$$1.414213562373095048801688724209698078569671875376948073176679737990732478462107038850387534327641573$$",
            "text/plain": [
              "1.4142135623730950488016887242096980785696718753769480731766797379907324784621\n",
              "07038850387534327641573"
            ]
          },
          "metadata": {
            "tags": []
          },
          "execution_count": 15
        }
      ]
    },
    {
      "cell_type": "code",
      "metadata": {
        "id": "jrEG__KAKEzq",
        "colab_type": "code",
        "colab": {},
        "outputId": "c105c75e-71f5-477e-ce8f-98bd36181ea7"
      },
      "source": [
        "###### 1/2+1/3を有理数として計算しましょう\n",
        "Rational(1,2)+Rational(1,3)"
      ],
      "execution_count": null,
      "outputs": [
        {
          "output_type": "execute_result",
          "data": {
            "text/latex": "$$\\frac{5}{6}$$",
            "text/plain": [
              "5/6"
            ]
          },
          "metadata": {
            "tags": []
          },
          "execution_count": 16
        }
      ]
    },
    {
      "cell_type": "code",
      "metadata": {
        "id": "K2ePM3rrKEzu",
        "colab_type": "code",
        "colab": {},
        "outputId": "dca48c86-8e7c-4f4c-e1a2-86a9fdd0757e"
      },
      "source": [
        "x + x + y + x"
      ],
      "execution_count": null,
      "outputs": [
        {
          "output_type": "execute_result",
          "data": {
            "text/latex": "$$3 x + y$$",
            "text/plain": [
              "3⋅x + y"
            ]
          },
          "metadata": {
            "tags": []
          },
          "execution_count": 17
        }
      ]
    },
    {
      "cell_type": "markdown",
      "metadata": {
        "id": "zqQLWhDgKEzw",
        "colab_type": "text"
      },
      "source": [
        "###### init_printingについて、テキストによっていろんな初期化をしている\n",
        "sympy.init_printing(use_unicode=False, wrap_line=True)  \n",
        "とか  \n",
        "init_printing()  \n",
        "とか  \n",
        "from sympy.interactive import printing  \n",
        "printing.init_printing(use_latex='mathjax')  \n",
        "とか"
      ]
    },
    {
      "cell_type": "code",
      "metadata": {
        "id": "BHfMmgi7KEzx",
        "colab_type": "code",
        "colab": {},
        "outputId": "e2a85089-fd98-4888-e398-5ea65a700107"
      },
      "source": [
        "expand((x+y)**5)"
      ],
      "execution_count": null,
      "outputs": [
        {
          "output_type": "execute_result",
          "data": {
            "text/latex": "$$x^{5} + 5 x^{4} y + 10 x^{3} y^{2} + 10 x^{2} y^{3} + 5 x y^{4} + y^{5}$$",
            "text/plain": [
              " 5      4         3  2       2  3        4    5\n",
              "x  + 5⋅x ⋅y + 10⋅x ⋅y  + 10⋅x ⋅y  + 5⋅x⋅y  + y "
            ]
          },
          "metadata": {
            "tags": []
          },
          "execution_count": 18
        }
      ]
    },
    {
      "cell_type": "markdown",
      "metadata": {
        "id": "J31N-WjtKEzz",
        "colab_type": "text"
      },
      "source": [
        "###### 変数入りの数式はベキが大きいのから小さいのに並べられるのはエラい"
      ]
    },
    {
      "cell_type": "code",
      "metadata": {
        "id": "HufAsAR6KEz0",
        "colab_type": "code",
        "colab": {},
        "outputId": "5b534413-eb0e-4122-a0ab-aa8ed50f36ea"
      },
      "source": [
        "3*x*y**2 + 3*y*x**2 + x**3 + y**3"
      ],
      "execution_count": null,
      "outputs": [
        {
          "output_type": "execute_result",
          "data": {
            "text/latex": "$$x^{3} + 3 x^{2} y + 3 x y^{2} + y^{3}$$",
            "text/plain": [
              " 3      2          2    3\n",
              "x  + 3⋅x ⋅y + 3⋅x⋅y  + y "
            ]
          },
          "metadata": {
            "tags": []
          },
          "execution_count": 19
        }
      ]
    },
    {
      "cell_type": "code",
      "metadata": {
        "id": "dkQskuU5KEz2",
        "colab_type": "code",
        "colab": {},
        "outputId": "cb833173-eb6f-4694-b8ad-b8c884c58bdf"
      },
      "source": [
        "expand(x + y, complex = True)"
      ],
      "execution_count": null,
      "outputs": [
        {
          "output_type": "execute_result",
          "data": {
            "text/latex": "$$\\Re{\\left(x\\right)} + \\Re{\\left(y\\right)} + i \\Im{x} + i \\Im{y}$$",
            "text/plain": [
              "re(x) + re(y) + ⅈ⋅im(x) + ⅈ⋅im(y)"
            ]
          },
          "metadata": {
            "tags": []
          },
          "execution_count": 20
        }
      ]
    },
    {
      "cell_type": "markdown",
      "metadata": {
        "id": "wFXb_1zBKEz5",
        "colab_type": "text"
      },
      "source": [
        "###### 上のは複素数表記でドイツ文字の$ R $と$ I $を使っている\n",
        "フラクトゥールというらしい\n",
        "$$\n",
        "\\mathfrak R (x) + \\mathfrak R (y) + i \\mathfrak I x + \\mathfrak I y\n",
        "$$\n",
        "だいたい合っているかな。"
      ]
    },
    {
      "cell_type": "code",
      "metadata": {
        "id": "mswSXXdGKEz6",
        "colab_type": "code",
        "colab": {},
        "outputId": "b9356a73-0ba5-4228-8917-1c9cb19bd0d9"
      },
      "source": [
        "'''\n",
        "Unit converter: Miles and Kilometers\n",
        "'''\n",
        "def print_menu():\n",
        "  print('1. Kilometers to Miles')\n",
        "  print('2. Miles to Kilometers')\n",
        "\n",
        "def km_miles():\n",
        "  km = float(input('Enter distance in kilometers: '))\n",
        "  miles = km / 1.609\n",
        "\n",
        "  print('Distance in miles: {0}'.format(miles))\n",
        "\n",
        "def miles_km():\n",
        "  miles = float(input('Enter distance in miles: '))\n",
        "  km = miles * 1.609\n",
        "  print('Distance in kilometers: {0}'.format(km))\n",
        "\n",
        "if __name__ == '__main__':\n",
        "  print_menu()\n",
        "  choice = input('Which conversion would you like to do?: ')\n",
        "if choice == '1':\n",
        "  km_miles()\n",
        "if choice == '2':\n",
        "  miles_km()"
      ],
      "execution_count": null,
      "outputs": [
        {
          "output_type": "stream",
          "text": [
            "1. Kilometers to Miles\n",
            "2. Miles to Kilometers\n",
            "Which conversion would you like to do?: 1\n",
            "Enter distance in kilometers: 100\n",
            "Distance in miles: 62.15040397762586\n"
          ],
          "name": "stdout"
        }
      ]
    },
    {
      "cell_type": "markdown",
      "metadata": {
        "id": "0Ix5QPpfKEz8",
        "colab_type": "text"
      },
      "source": [
        "###### if __name__ == '__main__':\n",
        "はノートブックにそぐわないみたいですね。  \n",
        "取ってしまった方がいいみたい。  \n",
        "で、するとインデントレベルがひとつ下がる。\n",
        "\n",
        "そんなことを言えば、input()もノートブックにそぐわないみたいです。  \n",
        "input()があると評価がそのセルで止まってしまう。  \n",
        "なるほど。"
      ]
    },
    {
      "cell_type": "code",
      "metadata": {
        "id": "JWlWZmnbKEz9",
        "colab_type": "code",
        "colab": {}
      },
      "source": [
        "'''\n",
        "Quadratic equation root calculator\n",
        "'''\n",
        "def roots(a, b, c):\n",
        "  D = (b*b - 4*a*c)**0.5\n",
        "  x_1 = (-b + D)/(2*a)\n",
        "  x_2 = (-b - D)/(2*a)\n",
        "  print('x1: {0}'.format(x_1))\n",
        "  print('x2: {0}'.format(x_2))\n",
        "\n",
        "a, b, c = 1, 2, 1\n",
        "roots(float(a), float(b), float(c))"
      ],
      "execution_count": null,
      "outputs": []
    },
    {
      "cell_type": "markdown",
      "metadata": {
        "id": "YynWzFR4KE0A",
        "colab_type": "text"
      },
      "source": [
        "###### (x+y)6 の展開形を計算しましょう。"
      ]
    },
    {
      "cell_type": "code",
      "metadata": {
        "id": "gDKspbLKKE0B",
        "colab_type": "code",
        "colab": {},
        "outputId": "711688d2-35fd-4df6-94b2-f7c3e2947e0a"
      },
      "source": [
        "from sympy import *\n",
        "init_printing()\n",
        "x, y = symbols(\"x,y\")\n",
        "\n",
        "expand((x + y)**6)"
      ],
      "execution_count": null,
      "outputs": [
        {
          "output_type": "execute_result",
          "data": {
            "image/png": "[encoded data removed]",
            "text/latex": "$$x^{6} + 6 x^{5} y + 15 x^{4} y^{2} + 20 x^{3} y^{3} + 15 x^{2} y^{4} + 6 x y^{5} + y^{6}$$",
            "text/plain": [
              " 6      5         4  2       3  3       2  4        5    6\n",
              "x  + 6⋅x ⋅y + 15⋅x ⋅y  + 20⋅x ⋅y  + 15⋅x ⋅y  + 6⋅x⋅y  + y "
            ]
          },
          "metadata": {
            "tags": []
          },
          "execution_count": 18
        }
      ]
    },
    {
      "cell_type": "code",
      "metadata": {
        "id": "-cETau_SKE0E",
        "colab_type": "code",
        "colab": {},
        "outputId": "a5f70c6c-a57e-4078-d889-1961cf25a457"
      },
      "source": [
        "simplify(x**6 + 6*x**5*y)"
      ],
      "execution_count": null,
      "outputs": [
        {
          "output_type": "execute_result",
          "data": {
            "image/png": "[encoded data removed]",
            "text/latex": "$$x^{5} \\left(x + 6 y\\right)$$",
            "text/plain": [
              " 5          \n",
              "x ⋅(x + 6⋅y)"
            ]
          },
          "metadata": {
            "tags": []
          },
          "execution_count": 15
        }
      ]
    },
    {
      "cell_type": "markdown",
      "metadata": {
        "id": "o0viq2OPKE0H",
        "colab_type": "text"
      },
      "source": [
        "###### python表記に戻す init_printing()にはどうしたらよいか\n",
        "アイデアは   \n",
        "init_printing(use_pythonformat: True)  \n",
        "x**2  \n",
        "とか\n",
        "\n",
        "init_printing(pretty_print=False)\n",
        "\n",
        "でした。"
      ]
    },
    {
      "cell_type": "code",
      "metadata": {
        "id": "mfENrFXVKE0H",
        "colab_type": "code",
        "colab": {},
        "outputId": "3ac7b238-50b8-4dd7-8d01-7baa812e99ed"
      },
      "source": [
        "init_printing(pretty_print=False)\n",
        "x**2"
      ],
      "execution_count": null,
      "outputs": [
        {
          "output_type": "execute_result",
          "data": {
            "text/plain": [
              "x**2"
            ]
          },
          "metadata": {
            "tags": []
          },
          "execution_count": 25
        }
      ]
    },
    {
      "cell_type": "code",
      "metadata": {
        "id": "mlv3VAvQKE0K",
        "colab_type": "code",
        "colab": {},
        "outputId": "2eee4f5f-e349-4692-f031-5b3ff92f9483"
      },
      "source": [
        "expand((x + y)**6)"
      ],
      "execution_count": null,
      "outputs": [
        {
          "output_type": "execute_result",
          "data": {
            "text/plain": [
              "x**6 + 6*x**5*y + 15*x**4*y**2 + 20*x**3*y**3 + 15*x**2*y**4 + 6*x*y**5 + y**6"
            ]
          },
          "metadata": {
            "tags": []
          },
          "execution_count": 26
        }
      ]
    },
    {
      "cell_type": "code",
      "metadata": {
        "id": "mOijm_IwKE0N",
        "colab_type": "code",
        "colab": {},
        "outputId": "f1a5f38b-76c0-476a-bf0a-29e04736c803"
      },
      "source": [
        "# sin(x)/cos(x)を簡単化しなさい\n",
        "from sympy import *\n",
        "init_printing()\n",
        "x = symbols('x')\n",
        "simplify(sin(x)/cos(x))"
      ],
      "execution_count": null,
      "outputs": [
        {
          "output_type": "execute_result",
          "data": {
            "image/png": "[encoded data removed]",
            "text/latex": "$$\\tan{\\left (x \\right )}$$",
            "text/plain": [
              "tan(x)"
            ]
          },
          "metadata": {
            "tags": []
          },
          "execution_count": 35
        }
      ]
    },
    {
      "cell_type": "markdown",
      "metadata": {
        "id": "4dpqB-dgKE0Q",
        "colab_type": "text"
      },
      "source": [
        "###### 簡単化とはいくぶん曖昧な用語です, そのためより目的を明確にした simplify の代替が存在します: powsimp (指数の簡単化), trigsimp (三角関数を含む数式), logcombine, radsimp, togeter."
      ]
    },
    {
      "cell_type": "code",
      "metadata": {
        "id": "ot4MYMonKE0R",
        "colab_type": "code",
        "colab": {},
        "outputId": "5d4d56f0-8305-4140-f90e-af006e73f8ec"
      },
      "source": [
        "factor(x**2 + 2*x + 1)"
      ],
      "execution_count": null,
      "outputs": [
        {
          "output_type": "execute_result",
          "data": {
            "image/png": "[encoded data removed]",
            "text/latex": "$$\\left(x + 1\\right)^{2}$$",
            "text/plain": [
              "       2\n",
              "(x + 1) "
            ]
          },
          "metadata": {
            "tags": []
          },
          "execution_count": 37
        }
      ]
    },
    {
      "cell_type": "code",
      "metadata": {
        "id": "CaT7vWfTKE0T",
        "colab_type": "code",
        "colab": {},
        "outputId": "1eacb7d7-e636-4044-883c-2db6b1b389be"
      },
      "source": [
        "simplify(x**2 + 2*x + 2)"
      ],
      "execution_count": null,
      "outputs": [
        {
          "output_type": "execute_result",
          "data": {
            "image/png": "[encoded data removed]",
            "text/latex": "$$x^{2} + 2 x + 2$$",
            "text/plain": [
              " 2          \n",
              "x  + 2⋅x + 2"
            ]
          },
          "metadata": {
            "tags": []
          },
          "execution_count": 39
        }
      ]
    },
    {
      "cell_type": "code",
      "metadata": {
        "id": "z3GOWiX6KE0W",
        "colab_type": "code",
        "colab": {},
        "outputId": "1f6a5052-e39f-46e5-8369-730e49b8f0a9"
      },
      "source": [
        "trigsimp(sin(x)**4 - 2*cos(x)**2*sin(x)**2 + cos(x)**4)"
      ],
      "execution_count": null,
      "outputs": [
        {
          "output_type": "execute_result",
          "data": {
            "image/png": "[encoded data removed]",
            "text/latex": "$$\\frac{\\cos{\\left (4 x \\right )}}{2} + \\frac{1}{2}$$",
            "text/plain": [
              "cos(4⋅x)   1\n",
              "──────── + ─\n",
              "   2       2"
            ]
          },
          "metadata": {
            "tags": []
          },
          "execution_count": 41
        }
      ]
    },
    {
      "cell_type": "code",
      "metadata": {
        "id": "XQQrYFx3KE0Z",
        "colab_type": "code",
        "colab": {},
        "outputId": "5ced8996-1f87-49a2-d519-60eefac5813b"
      },
      "source": [
        "expand_trig(sin(x+y))"
      ],
      "execution_count": null,
      "outputs": [
        {
          "output_type": "execute_result",
          "data": {
            "image/png": "[encoded data removed]",
            "text/latex": "$$\\sin{\\left (x \\right )} \\cos{\\left (y \\right )} + \\sin{\\left (y \\right )} \\cos{\\left (x \\right )}$$",
            "text/plain": [
              "sin(x)⋅cos(y) + sin(y)⋅cos(x)"
            ]
          },
          "metadata": {
            "tags": []
          },
          "execution_count": 51
        }
      ]
    },
    {
      "cell_type": "code",
      "metadata": {
        "id": "J7FbJ_S_KE0b",
        "colab_type": "code",
        "colab": {},
        "outputId": "ece30c92-6eb6-4b18-8c81-7ece3803d794"
      },
      "source": [
        "trigsimp(sin(x)*cos(y)+sin(y)*cos(x))"
      ],
      "execution_count": null,
      "outputs": [
        {
          "output_type": "execute_result",
          "data": {
            "image/png": "[encoded data removed]",
            "text/latex": "$$\\sin{\\left (x + y \\right )}$$",
            "text/plain": [
              "sin(x + y)"
            ]
          },
          "metadata": {
            "tags": []
          },
          "execution_count": 52
        }
      ]
    },
    {
      "cell_type": "code",
      "metadata": {
        "id": "Z8Yp0uUoKE0e",
        "colab_type": "code",
        "colab": {},
        "outputId": "d83550af-8a79-4cb0-a5f5-c1f57da06382"
      },
      "source": [
        "expand_trig(tan(2*x))"
      ],
      "execution_count": null,
      "outputs": [
        {
          "output_type": "execute_result",
          "data": {
            "image/png": "[encoded data removed]",
            "text/latex": "$$\\frac{2 \\tan{\\left (x \\right )}}{- \\tan^{2}{\\left (x \\right )} + 1}$$",
            "text/plain": [
              "   2⋅tan(x)  \n",
              "─────────────\n",
              "     2       \n",
              "- tan (x) + 1"
            ]
          },
          "metadata": {
            "tags": []
          },
          "execution_count": 53
        }
      ]
    },
    {
      "cell_type": "code",
      "metadata": {
        "id": "39TjPHU-KE0h",
        "colab_type": "code",
        "colab": {},
        "outputId": "4a9b82fc-e79e-4143-d558-6fe8b969d04c"
      },
      "source": [
        "sqrt(x*y)"
      ],
      "execution_count": null,
      "outputs": [
        {
          "output_type": "execute_result",
          "data": {
            "image/png": "[encoded data removed]",
            "text/latex": "$$\\sqrt{x} \\sqrt{y}$$",
            "text/plain": [
              "√x⋅√y"
            ]
          },
          "metadata": {
            "tags": []
          },
          "execution_count": 66
        }
      ]
    },
    {
      "cell_type": "code",
      "metadata": {
        "id": "kLKJvuAAKE0k",
        "colab_type": "code",
        "colab": {},
        "outputId": "c9d00a43-99ed-46b2-ed3e-c6ad76a2d818"
      },
      "source": [
        "ln(x)"
      ],
      "execution_count": null,
      "outputs": [
        {
          "output_type": "execute_result",
          "data": {
            "image/png": "[encoded data removed]",
            "text/latex": "$$\\log{\\left (x \\right )}$$",
            "text/plain": [
              "log(x)"
            ]
          },
          "metadata": {
            "tags": []
          },
          "execution_count": 67
        }
      ]
    },
    {
      "cell_type": "code",
      "metadata": {
        "id": "rzsx5PKUKE0n",
        "colab_type": "code",
        "colab": {},
        "outputId": "cf3dbb41-ff21-4ad5-fded-a6379c0d4f39"
      },
      "source": [
        "x, y = symbols('x y')\n",
        "expand_log(log(x*y))"
      ],
      "execution_count": null,
      "outputs": [
        {
          "output_type": "execute_result",
          "data": {
            "image/png": "[encoded data removed]",
            "text/latex": "$$\\log{\\left (x y \\right )}$$",
            "text/plain": [
              "log(x⋅y)"
            ]
          },
          "metadata": {
            "tags": []
          },
          "execution_count": 73
        }
      ]
    },
    {
      "cell_type": "code",
      "metadata": {
        "id": "eA6rda_WKE0q",
        "colab_type": "code",
        "colab": {},
        "outputId": "e4d781f3-69ac-43b8-e5c5-5892f4911116"
      },
      "source": [
        "x, y = symbols('x y', positive=True)\n",
        "expand_log(log(x*y))"
      ],
      "execution_count": null,
      "outputs": [
        {
          "output_type": "execute_result",
          "data": {
            "image/png": "[encoded data removed]",
            "text/latex": "$$\\log{\\left (x \\right )} + \\log{\\left (y \\right )}$$",
            "text/plain": [
              "log(x) + log(y)"
            ]
          },
          "metadata": {
            "tags": []
          },
          "execution_count": 78
        }
      ]
    },
    {
      "cell_type": "code",
      "metadata": {
        "id": "_Y17TO8VKE0u",
        "colab_type": "code",
        "colab": {},
        "outputId": "49467d6e-cd7f-4da4-da8c-f8a4cb103553"
      },
      "source": [
        "x, y = symbols('x y')\n",
        "expand_log(log(x*y), force=True)"
      ],
      "execution_count": null,
      "outputs": [
        {
          "output_type": "execute_result",
          "data": {
            "image/png": "[encoded data removed]",
            "text/latex": "$$\\log{\\left (x \\right )} + \\log{\\left (y \\right )}$$",
            "text/plain": [
              "log(x) + log(y)"
            ]
          },
          "metadata": {
            "tags": []
          },
          "execution_count": 80
        }
      ]
    },
    {
      "cell_type": "code",
      "metadata": {
        "id": "54Xag_EBKE0x",
        "colab_type": "code",
        "colab": {},
        "outputId": "69366c5a-bf81-4241-ba5b-2897738a246f"
      },
      "source": [
        "logcombine(log(x) + log(y), force=True)"
      ],
      "execution_count": null,
      "outputs": [
        {
          "output_type": "execute_result",
          "data": {
            "image/png": "[encoded data removed]",
            "text/latex": "$$\\log{\\left (x y \\right )}$$",
            "text/plain": [
              "log(x⋅y)"
            ]
          },
          "metadata": {
            "tags": []
          },
          "execution_count": 82
        }
      ]
    },
    {
      "cell_type": "code",
      "metadata": {
        "id": "Tw0qSNyCKE00",
        "colab_type": "code",
        "colab": {},
        "outputId": "bca37be9-eabe-4779-c9a2-8dcafcbe2a24"
      },
      "source": [
        "n=symbols('n')\n",
        "logcombine(n*ln(x),force=True)"
      ],
      "execution_count": null,
      "outputs": [
        {
          "output_type": "execute_result",
          "data": {
            "image/png": "[encoded data removed]",
            "text/latex": "$$\\log{\\left (x^{n} \\right )}$$",
            "text/plain": [
              "   ⎛ n⎞\n",
              "log⎝x ⎠"
            ]
          },
          "metadata": {
            "tags": []
          },
          "execution_count": 86
        }
      ]
    },
    {
      "cell_type": "code",
      "metadata": {
        "id": "29mi2c1cKE04",
        "colab_type": "code",
        "colab": {},
        "outputId": "c35e96d5-83b9-4e20-8d80-8601b149b9c2"
      },
      "source": [
        "x,y,z=symbols('x y z')\n",
        "k, m, n = symbols('k m n')\n",
        "factorial(n)"
      ],
      "execution_count": null,
      "outputs": [
        {
          "output_type": "execute_result",
          "data": {
            "image/png": "[encoded data removed]",
            "text/latex": "$$n!$$",
            "text/plain": [
              "n!"
            ]
          },
          "metadata": {
            "tags": []
          },
          "execution_count": 87
        }
      ]
    },
    {
      "cell_type": "code",
      "metadata": {
        "id": "DANnxqjNKE07",
        "colab_type": "code",
        "colab": {},
        "outputId": "7f446b9e-1b18-4128-ae45-7c18f2728cda"
      },
      "source": [
        "binomial(n,k)"
      ],
      "execution_count": null,
      "outputs": [
        {
          "output_type": "execute_result",
          "data": {
            "image/png": "[encoded data removed]",
            "text/latex": "$${\\binom{n}{k}}$$",
            "text/plain": [
              "⎛n⎞\n",
              "⎜ ⎟\n",
              "⎝k⎠"
            ]
          },
          "metadata": {
            "tags": []
          },
          "execution_count": 88
        }
      ]
    },
    {
      "cell_type": "code",
      "metadata": {
        "id": "RirxFMjsKE0-",
        "colab_type": "code",
        "colab": {},
        "outputId": "28f21d32-149f-4a05-a34c-bb3ed721ca44"
      },
      "source": [
        "binomial(5,3)"
      ],
      "execution_count": null,
      "outputs": [
        {
          "output_type": "execute_result",
          "data": {
            "image/png": "[encoded data removed]",
            "text/latex": "$$10$$",
            "text/plain": [
              "10"
            ]
          },
          "metadata": {
            "tags": []
          },
          "execution_count": 89
        }
      ]
    },
    {
      "cell_type": "code",
      "metadata": {
        "id": "gU9nJHhQKE1A",
        "colab_type": "code",
        "colab": {},
        "outputId": "fa4ef0d8-8c04-4e58-88b3-429bf378aa2f"
      },
      "source": [
        "gamma(z)"
      ],
      "execution_count": null,
      "outputs": [
        {
          "output_type": "execute_result",
          "data": {
            "image/png": "[encoded data removed]",
            "text/latex": "$$\\Gamma\\left(z\\right)$$",
            "text/plain": [
              "Γ(z)"
            ]
          },
          "metadata": {
            "tags": []
          },
          "execution_count": 90
        }
      ]
    },
    {
      "cell_type": "code",
      "metadata": {
        "id": "K5WptoyjKE1C",
        "colab_type": "code",
        "colab": {},
        "outputId": "592bed71-0136-475f-9a33-e0223fc75947"
      },
      "source": [
        "gamma(10)"
      ],
      "execution_count": null,
      "outputs": [
        {
          "output_type": "execute_result",
          "data": {
            "image/png": "[encoded data removed]",
            "text/latex": "$$362880$$",
            "text/plain": [
              "362880"
            ]
          },
          "metadata": {
            "tags": []
          },
          "execution_count": 92
        }
      ]
    },
    {
      "cell_type": "code",
      "metadata": {
        "id": "KK3SaIusKE1E",
        "colab_type": "code",
        "colab": {},
        "outputId": "b6f19de0-c72d-42b1-ffa7-fae5e5416c9d"
      },
      "source": [
        "factorial(9)"
      ],
      "execution_count": null,
      "outputs": [
        {
          "output_type": "execute_result",
          "data": {
            "image/png": "[encoded data removed]",
            "text/latex": "$$362880$$",
            "text/plain": [
              "362880"
            ]
          },
          "metadata": {
            "tags": []
          },
          "execution_count": 94
        }
      ]
    },
    {
      "cell_type": "markdown",
      "metadata": {
        "id": "lcXMFe_FKE1I",
        "colab_type": "text"
      },
      "source": [
        "\\Gamma(z) = \\int_0^\\infty t^{z - 1}e^{-t}\\,dt \n",
        "\n",
        "$$\n",
        "\\Gamma(z) = \\int_0^\\infty t^{z - 1}e^{-t}\\,dt\n",
        "$$\n"
      ]
    },
    {
      "cell_type": "code",
      "metadata": {
        "id": "sGBIR_pTKE1I",
        "colab_type": "code",
        "colab": {},
        "outputId": "62834334-5fba-4875-bbdb-eb75db691e1a"
      },
      "source": [
        "# hyper([a_1, ..., a_p], [b_1, ..., b_q], z)\n",
        "# hypergeometric function\n",
        "hyper([1,2],[3],z)"
      ],
      "execution_count": null,
      "outputs": [
        {
          "output_type": "execute_result",
          "data": {
            "image/png": "[encoded data removed]",
            "text/latex": "$${{}_{2}F_{1}\\left(\\begin{matrix} 1, 2 \\\\ 3 \\end{matrix}\\middle| {z} \\right)}$$",
            "text/plain": [
              " ┌─  ⎛1, 2 │  ⎞\n",
              " ├─  ⎜     │ z⎟\n",
              "2╵ 1 ⎝ 3   │  ⎠"
            ]
          },
          "metadata": {
            "tags": []
          },
          "execution_count": 97
        }
      ]
    },
    {
      "cell_type": "code",
      "metadata": {
        "id": "P3oFztLKKE1K",
        "colab_type": "code",
        "colab": {},
        "outputId": "47c98775-1da3-4578-f187-740a0e905fab"
      },
      "source": [
        "# rewrite\n",
        "tan(x).rewrite(sin)"
      ],
      "execution_count": null,
      "outputs": [
        {
          "output_type": "execute_result",
          "data": {
            "image/png": "[encoded data removed]",
            "text/latex": "$$\\frac{2 \\sin^{2}{\\left (x \\right )}}{\\sin{\\left (2 x \\right )}}$$",
            "text/plain": [
              "     2   \n",
              "2⋅sin (x)\n",
              "─────────\n",
              " sin(2⋅x)"
            ]
          },
          "metadata": {
            "tags": []
          },
          "execution_count": 98
        }
      ]
    },
    {
      "cell_type": "code",
      "metadata": {
        "id": "H7S0Gv_wKE1P",
        "colab_type": "code",
        "colab": {},
        "outputId": "c4c0e4d3-5086-48a1-d44b-0e5af0888751"
      },
      "source": [
        "factorial(x).rewrite(gamma)\n",
        "# For some tips on applying more targeted rewriting, see the Advanced Expression Manipulation section"
      ],
      "execution_count": null,
      "outputs": [
        {
          "output_type": "execute_result",
          "data": {
            "image/png": "[encoded data removed]",
            "text/latex": "$$\\Gamma\\left(x + 1\\right)$$",
            "text/plain": [
              "Γ(x + 1)"
            ]
          },
          "metadata": {
            "tags": []
          },
          "execution_count": 99
        }
      ]
    },
    {
      "cell_type": "code",
      "metadata": {
        "id": "ONtTIhR5KE1R",
        "colab_type": "code",
        "colab": {},
        "outputId": "f0726751-cdf8-4c01-d44a-c1ab4b2c4399"
      },
      "source": [
        "expand_func(gamma(x + 3))"
      ],
      "execution_count": null,
      "outputs": [
        {
          "output_type": "execute_result",
          "data": {
            "image/png": "[encoded data removed]",
            "text/latex": "$$x \\left(x + 1\\right) \\left(x + 2\\right) \\Gamma\\left(x\\right)$$",
            "text/plain": [
              "x⋅(x + 1)⋅(x + 2)⋅Γ(x)"
            ]
          },
          "metadata": {
            "tags": []
          },
          "execution_count": 100
        }
      ]
    },
    {
      "cell_type": "code",
      "metadata": {
        "id": "2D4t0AOoKE1V",
        "colab_type": "code",
        "colab": {},
        "outputId": "eccc1b62-040d-4206-f3aa-2c6deda5ad8d"
      },
      "source": [
        "hyperexpand(hyper([1,1],[2],z))"
      ],
      "execution_count": null,
      "outputs": [
        {
          "output_type": "execute_result",
          "data": {
            "image/png": "[encoded data removed]",
            "text/latex": "$$- \\frac{\\log{\\left (- z + 1 \\right )}}{z}$$",
            "text/plain": [
              "-log(-z + 1) \n",
              "─────────────\n",
              "      z      "
            ]
          },
          "metadata": {
            "tags": []
          },
          "execution_count": 102
        }
      ]
    },
    {
      "cell_type": "code",
      "metadata": {
        "id": "kXSjmujDKE1X",
        "colab_type": "code",
        "colab": {},
        "outputId": "0fc57b42-6810-49e6-add8-066e2e25a388"
      },
      "source": [
        "expr = meijerg([[1],[1]], [[1],[]],-z)\n",
        "expr"
      ],
      "execution_count": null,
      "outputs": [
        {
          "output_type": "execute_result",
          "data": {
            "image/png": "[encoded data removed]",
            "text/latex": "$${G_{2, 1}^{1, 1}\\left(\\begin{matrix} 1 & 1 \\\\1 &  \\end{matrix} \\middle| {- z} \\right)}$$",
            "text/plain": [
              "╭─╮1, 1 ⎛1  1 │   ⎞\n",
              "│╶┐     ⎜     │ -z⎟\n",
              "╰─╯2, 1 ⎝1    │   ⎠"
            ]
          },
          "metadata": {
            "tags": []
          },
          "execution_count": 104
        }
      ]
    },
    {
      "cell_type": "code",
      "metadata": {
        "id": "hBiu035BKE1Z",
        "colab_type": "code",
        "colab": {},
        "outputId": "155811ab-ccc2-4a2d-9eee-311bd82937fa"
      },
      "source": [
        "hyperexpand(expr)"
      ],
      "execution_count": null,
      "outputs": [
        {
          "output_type": "execute_result",
          "data": {
            "image/png": "[encoded data removed]",
            "text/latex": "$$e^{\\frac{1}{z}}$$",
            "text/plain": [
              " 1\n",
              " ─\n",
              " z\n",
              "ℯ "
            ]
          },
          "metadata": {
            "tags": []
          },
          "execution_count": 105
        }
      ]
    },
    {
      "cell_type": "code",
      "metadata": {
        "id": "OC2rBPfvKE1d",
        "colab_type": "code",
        "colab": {},
        "outputId": "0adb7343-87a8-4b51-e8b5-14ee494c1a58"
      },
      "source": [
        "n , k = symbols('n k', integer=True)\n",
        "combsimp(factorial(n)/factorial(n - 3))"
      ],
      "execution_count": null,
      "outputs": [
        {
          "output_type": "execute_result",
          "data": {
            "image/png": "[encoded data removed]",
            "text/latex": "$$n \\left(n - 2\\right) \\left(n - 1\\right)$$",
            "text/plain": [
              "n⋅(n - 2)⋅(n - 1)"
            ]
          },
          "metadata": {
            "tags": []
          },
          "execution_count": 109
        }
      ]
    },
    {
      "cell_type": "code",
      "metadata": {
        "id": "hutrKUikKE1f",
        "colab_type": "code",
        "colab": {},
        "outputId": "7a1e7f8a-7b30-44de-dc26-f8348ea2db42"
      },
      "source": [
        "combsimp(binomial(n+1, k+1)/binomial(n, k))"
      ],
      "execution_count": null,
      "outputs": [
        {
          "output_type": "execute_result",
          "data": {
            "image/png": "[encoded data removed]",
            "text/latex": "$$\\frac{n + 1}{k + 1}$$",
            "text/plain": [
              "n + 1\n",
              "─────\n",
              "k + 1"
            ]
          },
          "metadata": {
            "tags": []
          },
          "execution_count": 110
        }
      ]
    },
    {
      "cell_type": "code",
      "metadata": {
        "id": "zsHHlp1oKE1i",
        "colab_type": "code",
        "colab": {},
        "outputId": "dd5960e9-b3bc-4b3c-df31-b756c6cdc3bb"
      },
      "source": [
        "gammasimp(gamma(x)*gamma(1 - x))"
      ],
      "execution_count": null,
      "outputs": [
        {
          "output_type": "execute_result",
          "data": {
            "image/png": "[encoded data removed]",
            "text/latex": "$$\\frac{\\pi}{\\sin{\\left (\\pi x \\right )}}$$",
            "text/plain": [
              "   π    \n",
              "────────\n",
              "sin(π⋅x)"
            ]
          },
          "metadata": {
            "tags": []
          },
          "execution_count": 111
        }
      ]
    },
    {
      "cell_type": "markdown",
      "metadata": {
        "id": "J4L-d6j8KE1k",
        "colab_type": "text"
      },
      "source": [
        "###### sympyのtutorial"
      ]
    },
    {
      "cell_type": "code",
      "metadata": {
        "id": "3S_T17GdKE1l",
        "colab_type": "code",
        "colab": {},
        "outputId": "35319be6-d6b0-4b7f-9bf7-2d6a609fc7dc"
      },
      "source": [
        "from sympy import *\n",
        "x = symbols('x')\n",
        "a = Integral(cos(x)*exp(x),x)\n",
        "Eq(a, a.doit())"
      ],
      "execution_count": null,
      "outputs": [
        {
          "output_type": "execute_result",
          "data": {
            "text/plain": [
              "Eq(Integral(exp(x)*cos(x), x), exp(x)*sin(x)/2 + exp(x)*cos(x)/2)"
            ]
          },
          "metadata": {
            "tags": []
          },
          "execution_count": 3
        }
      ]
    },
    {
      "cell_type": "code",
      "metadata": {
        "id": "APWmi3QyKE1m",
        "colab_type": "code",
        "colab": {},
        "outputId": "ffabdbe1-1f8f-480b-d613-f081fed83c45"
      },
      "source": [
        "from sympy import *\n",
        "init_printing()\n",
        "x = symbols('x')\n",
        "a = Integral(cos(x)*exp(x),x)\n",
        "Eq(a, a.doit())"
      ],
      "execution_count": null,
      "outputs": [
        {
          "output_type": "execute_result",
          "data": {
            "image/png": "[encoded data removed]",
            "text/latex": "$$\\int e^{x} \\cos{\\left (x \\right )}\\, dx = \\frac{e^{x}}{2} \\sin{\\left (x \\right )} + \\frac{e^{x}}{2} \\cos{\\left (x \\right )}$$",
            "text/plain": [
              "⌠                 x           x       \n",
              "⎮  x             ℯ ⋅sin(x)   ℯ ⋅cos(x)\n",
              "⎮ ℯ ⋅cos(x) dx = ───────── + ─────────\n",
              "⌡                    2           2    "
            ]
          },
          "metadata": {
            "tags": []
          },
          "execution_count": 4
        }
      ]
    },
    {
      "cell_type": "code",
      "metadata": {
        "id": "2Jsvko-2KE1p",
        "colab_type": "code",
        "colab": {},
        "outputId": "782e9ea6-fb07-4e4a-8cda-40d1bce80b53"
      },
      "source": [
        "a.doit()"
      ],
      "execution_count": null,
      "outputs": [
        {
          "output_type": "execute_result",
          "data": {
            "image/png": "[encoded data removed]",
            "text/latex": "$$\\frac{e^{x}}{2} \\sin{\\left (x \\right )} + \\frac{e^{x}}{2} \\cos{\\left (x \\right )}$$",
            "text/plain": [
              " x           x       \n",
              "ℯ ⋅sin(x)   ℯ ⋅cos(x)\n",
              "───────── + ─────────\n",
              "    2           2    "
            ]
          },
          "metadata": {
            "tags": []
          },
          "execution_count": 5
        }
      ]
    },
    {
      "cell_type": "code",
      "metadata": {
        "id": "ysaCX_uzKE1r",
        "colab_type": "code",
        "colab": {},
        "outputId": "a83dac4f-154d-4bcf-e938-46a698556269"
      },
      "source": [
        "b = Integral(x**3)\n",
        "Eq(b, b.doit())"
      ],
      "execution_count": null,
      "outputs": [
        {
          "output_type": "execute_result",
          "data": {
            "image/png": "[encoded data removed]",
            "text/latex": "$$\\int x^{3}\\, dx = \\frac{x^{4}}{4}$$",
            "text/plain": [
              "⌠          4\n",
              "⎮  3      x \n",
              "⎮ x  dx = ──\n",
              "⌡         4 "
            ]
          },
          "metadata": {
            "tags": []
          },
          "execution_count": 6
        }
      ]
    },
    {
      "cell_type": "markdown",
      "metadata": {
        "id": "VZa65s2jKE1u",
        "colab_type": "text"
      },
      "source": [
        "###### Sympy Tutorialに移りました"
      ]
    },
    {
      "cell_type": "code",
      "metadata": {
        "id": "jsBcROKEKE1u",
        "colab_type": "code",
        "colab": {},
        "outputId": "afaf4754-a8d7-4ffe-e989-df1039cf8f7b"
      },
      "source": [
        "from sympy import *\n",
        "init_printing()\n",
        "x, t, z, nu, y = symbols('x t z nu y')\n",
        "\n",
        "diff(sin('x')*exp(x),x)"
      ],
      "execution_count": null,
      "outputs": [
        {
          "output_type": "execute_result",
          "data": {
            "image/png": "[encoded data removed]",
            "text/latex": "$$e^{x} \\sin{\\left (x \\right )} + e^{x} \\cos{\\left (x \\right )}$$",
            "text/plain": [
              " x           x       \n",
              "ℯ ⋅sin(x) + ℯ ⋅cos(x)"
            ]
          },
          "metadata": {
            "tags": []
          },
          "execution_count": 11
        }
      ]
    },
    {
      "cell_type": "code",
      "metadata": {
        "id": "G8OpmQU5KE1x",
        "colab_type": "code",
        "colab": {},
        "outputId": "65d8d665-5a25-4ad4-befb-976cc5abd69e"
      },
      "source": [
        "diff(x**2)"
      ],
      "execution_count": null,
      "outputs": [
        {
          "output_type": "execute_result",
          "data": {
            "image/png": "[encoded data removed]",
            "text/latex": "$$2 x$$",
            "text/plain": [
              "2⋅x"
            ]
          },
          "metadata": {
            "tags": []
          },
          "execution_count": 4
        }
      ]
    },
    {
      "cell_type": "code",
      "metadata": {
        "id": "vxE2RlZfKE1y",
        "colab_type": "code",
        "colab": {},
        "outputId": "ec67b1a8-38f5-48ee-c525-375378a72e37"
      },
      "source": [
        "diff(sin('x')*exp(x))"
      ],
      "execution_count": null,
      "outputs": [
        {
          "output_type": "execute_result",
          "data": {
            "image/png": "[encoded data removed]",
            "text/latex": "$$e^{x} \\sin{\\left (x \\right )} + e^{x} \\cos{\\left (x \\right )}$$",
            "text/plain": [
              " x           x       \n",
              "ℯ ⋅sin(x) + ℯ ⋅cos(x)"
            ]
          },
          "metadata": {
            "tags": []
          },
          "execution_count": 5
        }
      ]
    },
    {
      "cell_type": "code",
      "metadata": {
        "id": "yWH0krexKE10",
        "colab_type": "code",
        "colab": {},
        "outputId": "967f3ea8-03ca-4c0d-f1e3-add2ca423566"
      },
      "source": [
        "exp(x)"
      ],
      "execution_count": null,
      "outputs": [
        {
          "output_type": "execute_result",
          "data": {
            "image/png": "[encoded data removed]",
            "text/latex": "$$e^{x}$$",
            "text/plain": [
              " x\n",
              "ℯ "
            ]
          },
          "metadata": {
            "tags": []
          },
          "execution_count": 6
        }
      ]
    },
    {
      "cell_type": "code",
      "metadata": {
        "id": "6TIaYy0zKE12",
        "colab_type": "code",
        "colab": {},
        "outputId": "7cdb553f-8115-498a-fe99-1aec4efeeeb1"
      },
      "source": [
        "exp(1)"
      ],
      "execution_count": null,
      "outputs": [
        {
          "output_type": "execute_result",
          "data": {
            "image/png": "[encoded data removed]",
            "text/latex": "$$e$$",
            "text/plain": [
              "ℯ"
            ]
          },
          "metadata": {
            "tags": []
          },
          "execution_count": 7
        }
      ]
    },
    {
      "cell_type": "code",
      "metadata": {
        "id": "1B7VAXx1KE14",
        "colab_type": "code",
        "colab": {},
        "outputId": "98afb6f5-cf9b-4d58-d663-891b3ca26e5f"
      },
      "source": [
        "diff(exp(x))"
      ],
      "execution_count": null,
      "outputs": [
        {
          "output_type": "execute_result",
          "data": {
            "image/png": "[encoded data removed]",
            "text/latex": "$$e^{x}$$",
            "text/plain": [
              " x\n",
              "ℯ "
            ]
          },
          "metadata": {
            "tags": []
          },
          "execution_count": 8
        }
      ]
    },
    {
      "cell_type": "code",
      "metadata": {
        "id": "yupx_lw-KE17",
        "colab_type": "code",
        "colab": {},
        "outputId": "31f019ab-23f0-4ff7-f97e-514bf6c70161"
      },
      "source": [
        "exp(1).evalf()"
      ],
      "execution_count": null,
      "outputs": [
        {
          "output_type": "execute_result",
          "data": {
            "image/png": "[encoded data removed]",
            "text/latex": "$$2.71828182845905$$",
            "text/plain": [
              "2.71828182845905"
            ]
          },
          "metadata": {
            "tags": []
          },
          "execution_count": 9
        }
      ]
    },
    {
      "cell_type": "code",
      "metadata": {
        "id": "BYZBYc_0KE19",
        "colab_type": "code",
        "colab": {},
        "outputId": "e878962e-9ea1-4a29-eaef-aa20db2fc859"
      },
      "source": [
        "expand_trig(sin(x + y))"
      ],
      "execution_count": null,
      "outputs": [
        {
          "output_type": "execute_result",
          "data": {
            "image/png": "[encoded data removed]",
            "text/latex": "$$\\sin{\\left (x \\right )} \\cos{\\left (y \\right )} + \\sin{\\left (y \\right )} \\cos{\\left (x \\right )}$$",
            "text/plain": [
              "sin(x)⋅cos(y) + sin(y)⋅cos(x)"
            ]
          },
          "metadata": {
            "tags": []
          },
          "execution_count": 23
        }
      ]
    },
    {
      "cell_type": "code",
      "metadata": {
        "id": "pMCTf3CCKE1_",
        "colab_type": "code",
        "colab": {},
        "outputId": "248fea62-eaf0-445a-9936-a8ee66e753e8"
      },
      "source": [
        "expand_trig(sin(2*x))"
      ],
      "execution_count": null,
      "outputs": [
        {
          "output_type": "execute_result",
          "data": {
            "image/png": "[encoded data removed]",
            "text/latex": "$$2 \\sin{\\left (x \\right )} \\cos{\\left (x \\right )}$$",
            "text/plain": [
              "2⋅sin(x)⋅cos(x)"
            ]
          },
          "metadata": {
            "tags": []
          },
          "execution_count": 24
        }
      ]
    },
    {
      "cell_type": "code",
      "metadata": {
        "id": "ZR1v3YnRKE2B",
        "colab_type": "code",
        "colab": {},
        "outputId": "cff43418-4801-4ce3-ff77-d5e171a9fa58"
      },
      "source": [
        "expand_trig(cos(x + y))"
      ],
      "execution_count": null,
      "outputs": [
        {
          "output_type": "execute_result",
          "data": {
            "image/png": "[encoded data removed]",
            "text/latex": "$$- \\sin{\\left (x \\right )} \\sin{\\left (y \\right )} + \\cos{\\left (x \\right )} \\cos{\\left (y \\right )}$$",
            "text/plain": [
              "-sin(x)⋅sin(y) + cos(x)⋅cos(y)"
            ]
          },
          "metadata": {
            "tags": []
          },
          "execution_count": 25
        }
      ]
    },
    {
      "cell_type": "code",
      "metadata": {
        "scrolled": true,
        "id": "SUZ_Bel6KE2D",
        "colab_type": "code",
        "colab": {},
        "outputId": "8d0f27a2-cc87-41b3-e1df-f9275a968753"
      },
      "source": [
        "expand_trig(cos(2*x))"
      ],
      "execution_count": null,
      "outputs": [
        {
          "output_type": "execute_result",
          "data": {
            "image/png": "[encoded data removed]",
            "text/latex": "$$2 \\cos^{2}{\\left (x \\right )} - 1$$",
            "text/plain": [
              "     2       \n",
              "2⋅cos (x) - 1"
            ]
          },
          "metadata": {
            "tags": []
          },
          "execution_count": 26
        }
      ]
    },
    {
      "cell_type": "code",
      "metadata": {
        "id": "Lc0Ek4iSKE2F",
        "colab_type": "code",
        "colab": {},
        "outputId": "7b3c8cfc-7338-47da-c286-3d5d8111d328"
      },
      "source": [
        "expand_trig(sin(3*x))"
      ],
      "execution_count": null,
      "outputs": [
        {
          "output_type": "execute_result",
          "data": {
            "image/png": "[encoded data removed]",
            "text/latex": "$$- 4 \\sin^{3}{\\left (x \\right )} + 3 \\sin{\\left (x \\right )}$$",
            "text/plain": [
              "       3              \n",
              "- 4⋅sin (x) + 3⋅sin(x)"
            ]
          },
          "metadata": {
            "tags": []
          },
          "execution_count": 27
        }
      ]
    },
    {
      "cell_type": "code",
      "metadata": {
        "id": "7BApO4boKE2G",
        "colab_type": "code",
        "colab": {},
        "outputId": "e6f4f163-883b-46d7-b942-f758aa9567e8"
      },
      "source": [
        "integrate(exp(x)*sin(x) + exp(x)*cos(x))"
      ],
      "execution_count": null,
      "outputs": [
        {
          "output_type": "execute_result",
          "data": {
            "image/png": "[encoded data removed]",
            "text/latex": "$$e^{x} \\sin{\\left (x \\right )}$$",
            "text/plain": [
              " x       \n",
              "ℯ ⋅sin(x)"
            ]
          },
          "metadata": {
            "tags": []
          },
          "execution_count": 28
        }
      ]
    },
    {
      "cell_type": "code",
      "metadata": {
        "id": "IeuhyBZhKE2I",
        "colab_type": "code",
        "colab": {},
        "outputId": "2e301104-a169-4234-a6c9-c4f43577b49e"
      },
      "source": [
        "integrate(sin(x**2),(x,-oo, oo))"
      ],
      "execution_count": null,
      "outputs": [
        {
          "output_type": "execute_result",
          "data": {
            "image/png": "[encoded data removed]",
            "text/latex": "$$\\frac{\\sqrt{2} \\sqrt{\\pi}}{2}$$",
            "text/plain": [
              "√2⋅√π\n",
              "─────\n",
              "  2  "
            ]
          },
          "metadata": {
            "tags": []
          },
          "execution_count": 30
        }
      ]
    },
    {
      "cell_type": "code",
      "metadata": {
        "id": "8F-ZLoVMKE2K",
        "colab_type": "code",
        "colab": {},
        "outputId": "eb796fbc-bc9c-4ce4-d760-0f25244b16ae"
      },
      "source": [
        "limit(sin(x)/x, x, 0)"
      ],
      "execution_count": null,
      "outputs": [
        {
          "output_type": "execute_result",
          "data": {
            "image/png": "[encoded data removed]",
            "text/latex": "$$1$$",
            "text/plain": [
              "1"
            ]
          },
          "metadata": {
            "tags": []
          },
          "execution_count": 31
        }
      ]
    },
    {
      "cell_type": "code",
      "metadata": {
        "id": "BUkE3GqxKE2M",
        "colab_type": "code",
        "colab": {},
        "outputId": "e7fe2d6d-fa86-4e81-e8ae-3a966947d978"
      },
      "source": [
        "from sympy import *\n",
        "init_printing()\n",
        "x = symbols('x')\n",
        "factor(x**2 - 2)"
      ],
      "execution_count": null,
      "outputs": [
        {
          "output_type": "execute_result",
          "data": {
            "image/png": "[encoded data removed]",
            "text/latex": "$$x^{2} - 2$$",
            "text/plain": [
              " 2    \n",
              "x  - 2"
            ]
          },
          "metadata": {
            "tags": []
          },
          "execution_count": 5
        }
      ]
    },
    {
      "cell_type": "markdown",
      "metadata": {
        "id": "gpczRqurKE2O",
        "colab_type": "text"
      },
      "source": [
        "###### from sympy import *\n",
        "init_printing()\n",
        "x = symbols('x')\n",
        "factor(x**2 - 2)"
      ]
    },
    {
      "cell_type": "code",
      "metadata": {
        "id": "nUkG0ZGtKE2O",
        "colab_type": "code",
        "colab": {},
        "outputId": "9f62cde8-7a97-47f2-f4b6-cb4436d157b4"
      },
      "source": [
        "solve(x**2 - 2, x)"
      ],
      "execution_count": null,
      "outputs": [
        {
          "output_type": "execute_result",
          "data": {
            "image/png": "[encoded data removed]",
            "text/latex": "$$\\left [ - \\sqrt{2}, \\quad \\sqrt{2}\\right ]$$",
            "text/plain": [
              "[-√2, √2]"
            ]
          },
          "metadata": {
            "tags": []
          },
          "execution_count": 6
        }
      ]
    },
    {
      "cell_type": "code",
      "metadata": {
        "id": "NWxOhZUMKE2Q",
        "colab_type": "code",
        "colab": {},
        "outputId": "c996c427-1678-4d09-96da-a8a85e48a32f"
      },
      "source": [
        "# solve the differential equation y'' - y = e^t\n",
        "from sympy import *\n",
        "init_printing()\n",
        "x, y ,z, t = symbols('x y z t')\n",
        "y = Function('y')\n",
        "dsolve(Eq(y(t).diff(t, t) - y(t), exp(t)), y(t))"
      ],
      "execution_count": null,
      "outputs": [
        {
          "output_type": "execute_result",
          "data": {
            "image/png": "[encoded data removed]",
            "text/latex": "$$y{\\left (t \\right )} = C_{2} e^{- t} + \\left(C_{1} + \\frac{t}{2}\\right) e^{t}$$",
            "text/plain": [
              "           -t   ⎛     t⎞  t\n",
              "y(t) = C₂⋅ℯ   + ⎜C₁ + ─⎟⋅ℯ \n",
              "                ⎝     2⎠   "
            ]
          },
          "metadata": {
            "tags": []
          },
          "execution_count": 7
        }
      ]
    },
    {
      "cell_type": "code",
      "metadata": {
        "id": "thpBv72wKE2T",
        "colab_type": "code",
        "colab": {},
        "outputId": "cef9649a-8a4c-4447-9896-0fbb63a1adbf"
      },
      "source": [
        "Matrix([[1,2],[2,2]]).eigenvals()"
      ],
      "execution_count": null,
      "outputs": [
        {
          "output_type": "execute_result",
          "data": {
            "image/png": "[encoded data removed]",
            "text/latex": "$$\\left \\{ \\frac{3}{2} + \\frac{\\sqrt{17}}{2} : 1, \\quad - \\frac{\\sqrt{17}}{2} + \\frac{3}{2} : 1\\right \\}$$",
            "text/plain": [
              "⎧3   √17       √17   3   ⎫\n",
              "⎨─ + ───: 1, - ─── + ─: 1⎬\n",
              "⎩2    2         2    2   ⎭"
            ]
          },
          "metadata": {
            "tags": []
          },
          "execution_count": 17
        }
      ]
    },
    {
      "cell_type": "code",
      "metadata": {
        "id": "CVaYO-8TKE2V",
        "colab_type": "code",
        "colab": {},
        "outputId": "cdfe0872-edb6-4bc3-c709-6e9473b395a2"
      },
      "source": [
        "from sympy import *\n",
        "init_printing()\n",
        "x, y ,z, nu, t = symbols('x y z nu t')\n",
        "\n",
        "besselj(nu,z).rewrite(jn)"
      ],
      "execution_count": null,
      "outputs": [
        {
          "output_type": "execute_result",
          "data": {
            "image/png": "[encoded data removed]",
            "text/latex": "$$\\frac{\\sqrt{2} \\sqrt{z} j_{\\nu - \\frac{1}{2}}\\left(z\\right)}{\\sqrt{\\pi}}$$",
            "text/plain": [
              "√2⋅√z⋅jn(ν - 1/2, z)\n",
              "────────────────────\n",
              "         √π         "
            ]
          },
          "metadata": {
            "tags": []
          },
          "execution_count": 19
        }
      ]
    },
    {
      "cell_type": "code",
      "metadata": {
        "id": "B9SqSC6_KE2X",
        "colab_type": "code",
        "colab": {},
        "outputId": "fbefca05-32a2-4279-9541-6a31c8743d54"
      },
      "source": [
        "latex(Integral(cos(x)**2,(x,0,pi)))"
      ],
      "execution_count": null,
      "outputs": [
        {
          "output_type": "execute_result",
          "data": {
            "text/plain": [
              "'\\\\int_{0}^{\\\\pi} \\\\cos^{2}{\\\\left (x \\\\right )}\\\\, dx'"
            ]
          },
          "metadata": {
            "tags": []
          },
          "execution_count": 20
        }
      ]
    },
    {
      "cell_type": "code",
      "metadata": {
        "id": "GDJUcx1_KE2Z",
        "colab_type": "code",
        "colab": {},
        "outputId": "793ff6f4-c511-44b3-984d-aab7d415b0cf"
      },
      "source": [
        "Integral(cos(x)**2,(x,0,pi))"
      ],
      "execution_count": null,
      "outputs": [
        {
          "output_type": "execute_result",
          "data": {
            "image/png": "[encoded data removed]",
            "text/latex": "$$\\int_{0}^{\\pi} \\cos^{2}{\\left (x \\right )}\\, dx$$",
            "text/plain": [
              "π           \n",
              "⌠           \n",
              "⎮    2      \n",
              "⎮ cos (x) dx\n",
              "⌡           \n",
              "0           "
            ]
          },
          "metadata": {
            "tags": []
          },
          "execution_count": 21
        }
      ]
    },
    {
      "cell_type": "code",
      "metadata": {
        "id": "70WJCV6KKE2b",
        "colab_type": "code",
        "colab": {},
        "outputId": "b372918e-91ab-45a5-8089-c79e620ff35d"
      },
      "source": [
        "from sympy import*\n",
        "init_printing()\n",
        "x = symbols('x')\n",
        "expr = x + 1\n",
        "expr.subs(x,2)"
      ],
      "execution_count": null,
      "outputs": [
        {
          "output_type": "execute_result",
          "data": {
            "image/png": "[encoded data removed]",
            "text/latex": "$$3$$",
            "text/plain": [
              "3"
            ]
          },
          "metadata": {
            "tags": []
          },
          "execution_count": 23
        }
      ]
    },
    {
      "cell_type": "code",
      "metadata": {
        "id": "MBdWiMVfKE2d",
        "colab_type": "code",
        "colab": {},
        "outputId": "7d02137b-aca2-47cc-e61d-51c79c1fbabb"
      },
      "source": [
        "Eq((x + 1)**2, x**2 + 2+x + 1)"
      ],
      "execution_count": null,
      "outputs": [
        {
          "output_type": "execute_result",
          "data": {
            "image/png": "[encoded data removed]",
            "text/latex": "$$\\left(x + 1\\right)^{2} = x^{2} + x + 3$$",
            "text/plain": [
              "       2    2        \n",
              "(x + 1)  = x  + x + 3"
            ]
          },
          "metadata": {
            "tags": []
          },
          "execution_count": 24
        }
      ]
    },
    {
      "cell_type": "code",
      "metadata": {
        "id": "UdSMSq-cKE2e",
        "colab_type": "code",
        "colab": {},
        "outputId": "ce204836-d479-4af8-94ef-fa2e1db9b201"
      },
      "source": [
        "(x + 1)**2 == x**2 + 2+x + 1"
      ],
      "execution_count": null,
      "outputs": [
        {
          "output_type": "execute_result",
          "data": {
            "text/plain": [
              "False"
            ]
          },
          "metadata": {
            "tags": []
          },
          "execution_count": 27
        }
      ]
    },
    {
      "cell_type": "code",
      "metadata": {
        "id": "SGhEMHz9KE2g",
        "colab_type": "code",
        "colab": {},
        "outputId": "f161f8be-0acf-42d1-ed92-efb1b6a0ba80"
      },
      "source": [
        "a = (x + 1)**2\n",
        "b = x**2 + 2*x + 1\n",
        "a"
      ],
      "execution_count": null,
      "outputs": [
        {
          "output_type": "execute_result",
          "data": {
            "image/png": "[encoded data removed]",
            "text/latex": "$$\\left(x + 1\\right)^{2}$$",
            "text/plain": [
              "       2\n",
              "(x + 1) "
            ]
          },
          "metadata": {
            "tags": []
          },
          "execution_count": 32
        }
      ]
    },
    {
      "cell_type": "code",
      "metadata": {
        "id": "Onyo_fqzKE2i",
        "colab_type": "code",
        "colab": {},
        "outputId": "2a568bf8-f9a9-4b95-fea4-951e411be025"
      },
      "source": [
        "a - b"
      ],
      "execution_count": null,
      "outputs": [
        {
          "output_type": "execute_result",
          "data": {
            "image/png": "[encoded data removed]",
            "text/latex": "$$- x^{2} - 2 x + \\left(x + 1\\right)^{2} - 1$$",
            "text/plain": [
              "   2                2    \n",
              "- x  - 2⋅x + (x + 1)  - 1"
            ]
          },
          "metadata": {
            "tags": []
          },
          "execution_count": 33
        }
      ]
    },
    {
      "cell_type": "code",
      "metadata": {
        "id": "5sO7zDhLKE2j",
        "colab_type": "code",
        "colab": {},
        "outputId": "b6e130a3-c4cc-4bc3-c194-8527795a804d"
      },
      "source": [
        "simplify(a - b)"
      ],
      "execution_count": null,
      "outputs": [
        {
          "output_type": "execute_result",
          "data": {
            "image/png": "[encoded data removed]",
            "text/latex": "$$0$$",
            "text/plain": [
              "0"
            ]
          },
          "metadata": {
            "tags": []
          },
          "execution_count": 34
        }
      ]
    },
    {
      "cell_type": "code",
      "metadata": {
        "id": "pbmXqVJ5KE2n",
        "colab_type": "code",
        "colab": {},
        "outputId": "2cbde2ce-fa4e-4982-b921-a63fee58b46c"
      },
      "source": [
        "if simplify(a - b) == 0:\n",
        "    print (\"right\")\n",
        "else:\n",
        "    print (\"no\")"
      ],
      "execution_count": null,
      "outputs": [
        {
          "output_type": "stream",
          "text": [
            "right\n"
          ],
          "name": "stdout"
        }
      ]
    },
    {
      "cell_type": "code",
      "metadata": {
        "id": "LQQ-vDbwKE2o",
        "colab_type": "code",
        "colab": {},
        "outputId": "a3757c07-4daf-412d-bdbc-7d411cce6702"
      },
      "source": [
        "a.equals(b)"
      ],
      "execution_count": null,
      "outputs": [
        {
          "output_type": "execute_result",
          "data": {
            "text/plain": [
              "True"
            ]
          },
          "metadata": {
            "tags": []
          },
          "execution_count": 39
        }
      ]
    },
    {
      "cell_type": "code",
      "metadata": {
        "id": "9A83Ll0GKE2q",
        "colab_type": "code",
        "colab": {},
        "outputId": "cc8ba2bf-b4ce-41d6-b6ad-4ac5b3b4ab78"
      },
      "source": [
        "a = cos(x)**2 - sin(x)**2\n",
        "b = cos(2*x)\n",
        "a.equals(b)"
      ],
      "execution_count": null,
      "outputs": [
        {
          "output_type": "execute_result",
          "data": {
            "text/plain": [
              "True"
            ]
          },
          "metadata": {
            "tags": []
          },
          "execution_count": 40
        }
      ]
    },
    {
      "cell_type": "code",
      "metadata": {
        "id": "TLMsavYSKE2r",
        "colab_type": "code",
        "colab": {},
        "outputId": "4ca33427-91df-4a30-9bd6-fd9d24ba8f88"
      },
      "source": [
        "x^y"
      ],
      "execution_count": null,
      "outputs": [
        {
          "output_type": "execute_result",
          "data": {
            "image/png": "[encoded data removed]",
            "text/latex": "$$x \\veebar y$$",
            "text/plain": [
              "x ⊻ y"
            ]
          },
          "metadata": {
            "tags": []
          },
          "execution_count": 41
        }
      ]
    },
    {
      "cell_type": "code",
      "metadata": {
        "id": "YZkwfBNiKE2t",
        "colab_type": "code",
        "colab": {},
        "outputId": "3c000f51-0c25-4ebe-c9a7-adfd4d4909f6"
      },
      "source": [
        "type(Integer(1) + 1)"
      ],
      "execution_count": null,
      "outputs": [
        {
          "output_type": "execute_result",
          "data": {
            "text/plain": [
              "sympy.core.numbers.Integer"
            ]
          },
          "metadata": {
            "tags": []
          },
          "execution_count": 42
        }
      ]
    },
    {
      "cell_type": "code",
      "metadata": {
        "id": "lEOQ1QAPKE2x",
        "colab_type": "code",
        "colab": {},
        "outputId": "102a1cc1-b694-4e0a-83c7-b5a484378ce7"
      },
      "source": [
        "type(1 +  1)"
      ],
      "execution_count": null,
      "outputs": [
        {
          "output_type": "execute_result",
          "data": {
            "text/plain": [
              "int"
            ]
          },
          "metadata": {
            "tags": []
          },
          "execution_count": 43
        }
      ]
    },
    {
      "cell_type": "code",
      "metadata": {
        "id": "WPkuDseBKE2z",
        "colab_type": "code",
        "colab": {},
        "outputId": "9a8dd5bf-de59-48a2-c531-4bf5c3e2a40d"
      },
      "source": [
        "Integer(3) / Integer(2)"
      ],
      "execution_count": null,
      "outputs": [
        {
          "output_type": "execute_result",
          "data": {
            "image/png": "[encoded data removed]",
            "text/latex": "$$\\frac{3}{2}$$",
            "text/plain": [
              "3/2"
            ]
          },
          "metadata": {
            "tags": []
          },
          "execution_count": 45
        }
      ]
    },
    {
      "cell_type": "code",
      "metadata": {
        "id": "3FYtpaDYKE21",
        "colab_type": "code",
        "colab": {},
        "outputId": "427516c2-9daa-4175-ded2-a73807deae03"
      },
      "source": [
        "3/2"
      ],
      "execution_count": null,
      "outputs": [
        {
          "output_type": "execute_result",
          "data": {
            "image/png": "[encoded data removed]",
            "text/latex": "$$1.5$$",
            "text/plain": [
              "1.5"
            ]
          },
          "metadata": {
            "tags": []
          },
          "execution_count": 46
        }
      ]
    },
    {
      "cell_type": "code",
      "metadata": {
        "id": "xdrKapphKE22",
        "colab_type": "code",
        "colab": {},
        "outputId": "acc3c76e-8100-4214-e9b2-4aea288cea2b"
      },
      "source": [
        "from __future__ import division\n",
        "1/2"
      ],
      "execution_count": null,
      "outputs": [
        {
          "output_type": "execute_result",
          "data": {
            "image/png": "[encoded data removed]",
            "text/latex": "$$0.5$$",
            "text/plain": [
              "0.5"
            ]
          },
          "metadata": {
            "tags": []
          },
          "execution_count": 47
        }
      ]
    },
    {
      "cell_type": "code",
      "metadata": {
        "id": "a_SgUAMEKE24",
        "colab_type": "code",
        "colab": {},
        "outputId": "a6629ef7-dca6-4cfb-d492-21798aa7877c"
      },
      "source": [
        "Rational(1,2)"
      ],
      "execution_count": null,
      "outputs": [
        {
          "output_type": "execute_result",
          "data": {
            "image/png": "[encoded data removed]",
            "text/latex": "$$\\frac{1}{2}$$",
            "text/plain": [
              "1/2"
            ]
          },
          "metadata": {
            "tags": []
          },
          "execution_count": 48
        }
      ]
    },
    {
      "cell_type": "code",
      "metadata": {
        "id": "a8MayKG5KE25",
        "colab_type": "code",
        "colab": {},
        "outputId": "701058df-ee72-441c-e2ac-4d23b367c84e"
      },
      "source": [
        "x  + 1/2"
      ],
      "execution_count": null,
      "outputs": [
        {
          "output_type": "execute_result",
          "data": {
            "image/png": "[encoded data removed]",
            "text/latex": "$$x + 0.5$$",
            "text/plain": [
              "x + 0.5"
            ]
          },
          "metadata": {
            "tags": []
          },
          "execution_count": 49
        }
      ]
    },
    {
      "cell_type": "code",
      "metadata": {
        "id": "qEjif4QDKE27",
        "colab_type": "code",
        "colab": {},
        "outputId": "ff236b28-939a-4de1-8154-4464b9fe2a9d"
      },
      "source": [
        "from sympy import *\n",
        "x, y, z = symbols('x y z')\n",
        "expr = cos(x) + 1\n",
        "expr.subs(x, y)"
      ],
      "execution_count": null,
      "outputs": [
        {
          "output_type": "execute_result",
          "data": {
            "image/png": "[encoded data removed]",
            "text/latex": "$$\\cos{\\left (y \\right )} + 1$$",
            "text/plain": [
              "cos(y) + 1"
            ]
          },
          "metadata": {
            "tags": []
          },
          "execution_count": 66
        }
      ]
    },
    {
      "cell_type": "code",
      "metadata": {
        "id": "KGXbX9LAKE28",
        "colab_type": "code",
        "colab": {},
        "outputId": "f2d30a76-c863-4627-9c36-29fe038114a3"
      },
      "source": [
        "expr.subs(x, 0)"
      ],
      "execution_count": null,
      "outputs": [
        {
          "output_type": "execute_result",
          "data": {
            "image/png": "[encoded data removed]",
            "text/latex": "$$2$$",
            "text/plain": [
              "2"
            ]
          },
          "metadata": {
            "tags": []
          },
          "execution_count": 51
        }
      ]
    },
    {
      "cell_type": "code",
      "metadata": {
        "id": "lTiHVS6jKE2-",
        "colab_type": "code",
        "colab": {},
        "outputId": "9b4f08a4-62ca-4ea1-9436-c454d8738dc6"
      },
      "source": [
        "expr = x ** y\n",
        "expr"
      ],
      "execution_count": null,
      "outputs": [
        {
          "output_type": "execute_result",
          "data": {
            "image/png": "[encoded data removed]",
            "text/latex": "$$x^{y}$$",
            "text/plain": [
              " y\n",
              "x "
            ]
          },
          "metadata": {
            "tags": []
          },
          "execution_count": 70
        }
      ]
    },
    {
      "cell_type": "code",
      "metadata": {
        "id": "2qoLc6cFKE3A",
        "colab_type": "code",
        "colab": {},
        "outputId": "8dd62ab6-9ef2-4e50-a585-e28c356eb63c"
      },
      "source": [
        "expr = expr.subs(y, x**y)\n",
        "expr\n"
      ],
      "execution_count": null,
      "outputs": [
        {
          "output_type": "execute_result",
          "data": {
            "image/png": "[encoded data removed]",
            "text/latex": "$$x^{x^{x^{x^{x^{x^{y}}}}}}$$",
            "text/plain": [
              " ⎛ ⎛ ⎛ ⎛ ⎛ y⎞⎞⎞⎞⎞\n",
              " ⎜ ⎜ ⎜ ⎜ ⎝x ⎠⎟⎟⎟⎟\n",
              " ⎜ ⎜ ⎜ ⎝x    ⎠⎟⎟⎟\n",
              " ⎜ ⎜ ⎝x       ⎠⎟⎟\n",
              " ⎜ ⎝x          ⎠⎟\n",
              " ⎝x             ⎠\n",
              "x                "
            ]
          },
          "metadata": {
            "tags": []
          },
          "execution_count": 75
        }
      ]
    },
    {
      "cell_type": "code",
      "metadata": {
        "id": "fHxhuvFnKE3B",
        "colab_type": "code",
        "colab": {},
        "outputId": "817d0d07-b391-4b0d-ed76-66b9f514adc7"
      },
      "source": [
        "expr = sin(2*x) + cos(2*x)\n",
        "expand_trig(expr)"
      ],
      "execution_count": null,
      "outputs": [
        {
          "output_type": "execute_result",
          "data": {
            "image/png": "[encoded data removed]",
            "text/latex": "$$2 \\sin{\\left (x \\right )} \\cos{\\left (x \\right )} + 2 \\cos^{2}{\\left (x \\right )} - 1$$",
            "text/plain": [
              "                       2       \n",
              "2⋅sin(x)⋅cos(x) + 2⋅cos (x) - 1"
            ]
          },
          "metadata": {
            "tags": []
          },
          "execution_count": 79
        }
      ]
    },
    {
      "cell_type": "code",
      "metadata": {
        "id": "1EiwK8FZKE3D",
        "colab_type": "code",
        "colab": {},
        "outputId": "7787e6cf-a3a0-4785-eda0-171155d8990e"
      },
      "source": [
        "expr.subs(sin(2*x), 2*sin(x)*cos(x))"
      ],
      "execution_count": null,
      "outputs": [
        {
          "output_type": "execute_result",
          "data": {
            "image/png": "[encoded data removed]",
            "text/latex": "$$2 \\sin{\\left (x \\right )} \\cos{\\left (x \\right )} + \\cos{\\left (2 x \\right )}$$",
            "text/plain": [
              "2⋅sin(x)⋅cos(x) + cos(2⋅x)"
            ]
          },
          "metadata": {
            "tags": []
          },
          "execution_count": 80
        }
      ]
    },
    {
      "cell_type": "markdown",
      "metadata": {
        "id": "wlY6w4X-KE3G",
        "colab_type": "text"
      },
      "source": [
        "###### multiple substituteion"
      ]
    },
    {
      "cell_type": "code",
      "metadata": {
        "id": "zH7awyIbKE3G",
        "colab_type": "code",
        "colab": {},
        "outputId": "8ae067fa-a4a6-4779-9341-177342cae302"
      },
      "source": [
        "from sympy import*\n",
        "init_printing()\n",
        "x,y,z,t = symbols('x y z t')\n",
        "expr = x**3 + 4*x*y - z\n",
        "expr.subs([(x,2),(y,4),(z,0)])"
      ],
      "execution_count": null,
      "outputs": [
        {
          "output_type": "execute_result",
          "data": {
            "image/png": "[encoded data removed]",
            "text/latex": "$$40$$",
            "text/plain": [
              "40"
            ]
          },
          "metadata": {
            "tags": []
          },
          "execution_count": 1
        }
      ]
    },
    {
      "cell_type": "code",
      "metadata": {
        "id": "HM8OPcBIKE3H",
        "colab_type": "code",
        "colab": {},
        "outputId": "268b9355-e4df-4792-9343-5e2f78412fa6"
      },
      "source": [
        "expr = x**4 - 4*x**3 + 4*x**2 - 2*x + 3\n",
        "expr"
      ],
      "execution_count": null,
      "outputs": [
        {
          "output_type": "execute_result",
          "data": {
            "image/png": "[encoded data removed]",
            "text/latex": "$$x^{4} - 4 x^{3} + 4 x^{2} - 2 x + 3$$",
            "text/plain": [
              " 4      3      2          \n",
              "x  - 4⋅x  + 4⋅x  - 2⋅x + 3"
            ]
          },
          "metadata": {
            "tags": []
          },
          "execution_count": 3
        }
      ]
    },
    {
      "cell_type": "code",
      "metadata": {
        "id": "i9ee4s6zKE3J",
        "colab_type": "code",
        "colab": {},
        "outputId": "5bc956d1-2519-478b-cc26-e4738b596fe1"
      },
      "source": [
        "replacements = [(x**i, y**i) for i in range(5) if i % 2 ==0]\n",
        "expr.subs(replacements)"
      ],
      "execution_count": null,
      "outputs": [
        {
          "output_type": "execute_result",
          "data": {
            "image/png": "[encoded data removed]",
            "text/latex": "$$- 4 x^{3} - 2 x + y^{4} + 4 y^{2} + 3$$",
            "text/plain": [
              "     3          4      2    \n",
              "- 4⋅x  - 2⋅x + y  + 4⋅y  + 3"
            ]
          },
          "metadata": {
            "tags": []
          },
          "execution_count": 4
        }
      ]
    },
    {
      "cell_type": "markdown",
      "metadata": {
        "id": "GbqFvKDaKE3K",
        "colab_type": "text"
      },
      "source": [
        "###### sympify"
      ]
    },
    {
      "cell_type": "code",
      "metadata": {
        "id": "6oFzfwLpKE3M",
        "colab_type": "code",
        "colab": {},
        "outputId": "46ca1c1f-f5db-4e80-af37-e92bc0560f1f"
      },
      "source": [
        "str_expr = \"x**2+ 3*x - 1/2\"\n",
        "expr = sympify(str_expr)\n",
        "expr"
      ],
      "execution_count": null,
      "outputs": [
        {
          "output_type": "execute_result",
          "data": {
            "image/png": "[encoded data removed]",
            "text/latex": "$$x^{2} + 3 x - \\frac{1}{2}$$",
            "text/plain": [
              " 2         1\n",
              "x  + 3⋅x - ─\n",
              "           2"
            ]
          },
          "metadata": {
            "tags": []
          },
          "execution_count": 14
        }
      ]
    },
    {
      "cell_type": "code",
      "metadata": {
        "id": "GB3k_NVeKE3O",
        "colab_type": "code",
        "colab": {},
        "outputId": "cc930dad-93fe-4c56-ad1e-4ec23db6fbe1"
      },
      "source": [
        "expr.subs(x,2)"
      ],
      "execution_count": null,
      "outputs": [
        {
          "output_type": "execute_result",
          "data": {
            "image/png": "[encoded data removed]",
            "text/latex": "$$\\frac{19}{2}$$",
            "text/plain": [
              "19/2"
            ]
          },
          "metadata": {
            "tags": []
          },
          "execution_count": 7
        }
      ]
    },
    {
      "cell_type": "markdown",
      "metadata": {
        "id": "GiA24U9CKE3P",
        "colab_type": "text"
      },
      "source": [
        "###### evalf"
      ]
    },
    {
      "cell_type": "code",
      "metadata": {
        "id": "szxTxnFfKE3P",
        "colab_type": "code",
        "colab": {},
        "outputId": "e5ffa799-ac83-4c5e-e646-b6309575ecac"
      },
      "source": [
        "sqrt(8).evalf()"
      ],
      "execution_count": null,
      "outputs": [
        {
          "output_type": "execute_result",
          "data": {
            "image/png": "[encoded data removed]",
            "text/latex": "$$2.82842712474619$$",
            "text/plain": [
              "2.82842712474619"
            ]
          },
          "metadata": {
            "tags": []
          },
          "execution_count": 21
        }
      ]
    },
    {
      "cell_type": "code",
      "metadata": {
        "id": "itqK1YyjKE3R",
        "colab_type": "code",
        "colab": {},
        "outputId": "e8c66a1a-7850-4754-aca8-16c42ebdfa1b"
      },
      "source": [
        "E.evalf()"
      ],
      "execution_count": null,
      "outputs": [
        {
          "output_type": "execute_result",
          "data": {
            "image/png": "[encoded data removed]",
            "text/latex": "$$2.71828182845905$$",
            "text/plain": [
              "2.71828182845905"
            ]
          },
          "metadata": {
            "tags": []
          },
          "execution_count": 23
        }
      ]
    },
    {
      "cell_type": "code",
      "metadata": {
        "id": "sbKsHSyzKE3S",
        "colab_type": "code",
        "colab": {},
        "outputId": "f45d85cc-2762-43d0-8996-ad24ba2ae464"
      },
      "source": [
        "pi.evalf(100)"
      ],
      "execution_count": null,
      "outputs": [
        {
          "output_type": "execute_result",
          "data": {
            "image/png": "[encoded data removed]",
            "text/latex": "$$3.141592653589793238462643383279502884197169399375105820974944592307816406286208998628034825342117068$$",
            "text/plain": [
              "3.1415926535897932384626433832795028841971693993751058209749445923078164062862\n",
              "08998628034825342117068"
            ]
          },
          "metadata": {
            "tags": []
          },
          "execution_count": 24
        }
      ]
    },
    {
      "cell_type": "code",
      "metadata": {
        "id": "q5Vqenm5KE3T",
        "colab_type": "code",
        "colab": {},
        "outputId": "fd78cb18-5d03-4936-c3cb-4214ba1b007c"
      },
      "source": [
        "expr = cos(2*x)\n",
        "expr.evalf(subs={x: 2.4})"
      ],
      "execution_count": null,
      "outputs": [
        {
          "output_type": "execute_result",
          "data": {
            "image/png": "[encoded data removed]",
            "text/latex": "$$0.0874989834394464$$",
            "text/plain": [
              "0.0874989834394464"
            ]
          },
          "metadata": {
            "tags": []
          },
          "execution_count": 25
        }
      ]
    },
    {
      "cell_type": "code",
      "metadata": {
        "id": "Rbwo_bdSKE3V",
        "colab_type": "code",
        "colab": {},
        "outputId": "417c0100-bb64-4561-e06a-084fdd26eb94"
      },
      "source": [
        "expr.subs(x,2.4).evalf()"
      ],
      "execution_count": null,
      "outputs": [
        {
          "output_type": "execute_result",
          "data": {
            "image/png": "[encoded data removed]",
            "text/latex": "$$0.0874989834394464$$",
            "text/plain": [
              "0.0874989834394464"
            ]
          },
          "metadata": {
            "tags": []
          },
          "execution_count": 28
        }
      ]
    },
    {
      "cell_type": "code",
      "metadata": {
        "id": "rAfUpSZBKE3Y",
        "colab_type": "code",
        "colab": {},
        "outputId": "2292f3db-1fc1-48d9-842b-182dd48ada6b"
      },
      "source": [
        "one = cos(1)**2 + sin(1)**2\n",
        "(one - 1).evalf(chop=True)"
      ],
      "execution_count": null,
      "outputs": [
        {
          "output_type": "execute_result",
          "data": {
            "image/png": "[encoded data removed]",
            "text/latex": "$$0$$",
            "text/plain": [
              "0"
            ]
          },
          "metadata": {
            "tags": []
          },
          "execution_count": 35
        }
      ]
    },
    {
      "cell_type": "markdown",
      "metadata": {
        "id": "vBx-h8LMKE3Z",
        "colab_type": "text"
      },
      "source": [
        "######  lambdify"
      ]
    },
    {
      "cell_type": "code",
      "metadata": {
        "id": "4C6P4cdTKE3Z",
        "colab_type": "code",
        "colab": {},
        "outputId": "f0e80bd5-6b41-48d2-9478-fa1c35ca423f"
      },
      "source": [
        "import numpy\n",
        "a = numpy.arange(10)\n",
        "a"
      ],
      "execution_count": null,
      "outputs": [
        {
          "output_type": "execute_result",
          "data": {
            "text/plain": [
              "array([0, 1, 2, 3, 4, 5, 6, 7, 8, 9])"
            ]
          },
          "metadata": {
            "tags": []
          },
          "execution_count": 37
        }
      ]
    },
    {
      "cell_type": "code",
      "metadata": {
        "id": "qvM8YcaVKE3b",
        "colab_type": "code",
        "colab": {},
        "outputId": "731b1abb-8511-4eab-9cbd-472470ddb015"
      },
      "source": [
        "a[3]"
      ],
      "execution_count": null,
      "outputs": [
        {
          "output_type": "execute_result",
          "data": {
            "text/plain": [
              "3"
            ]
          },
          "metadata": {
            "tags": []
          },
          "execution_count": 38
        }
      ]
    },
    {
      "cell_type": "code",
      "metadata": {
        "id": "hPdPWvbaKE3c",
        "colab_type": "code",
        "colab": {},
        "outputId": "f914e4ea-a5a7-4916-a702-9a3b83ad5b1c"
      },
      "source": [
        "expr = sin(x)\n",
        "f = lambdify(x, expr, \"numpy\")\n",
        "f(a)"
      ],
      "execution_count": null,
      "outputs": [
        {
          "output_type": "execute_result",
          "data": {
            "text/plain": [
              "array([ 0.        ,  0.84147098,  0.90929743,  0.14112001, -0.7568025 ,\n",
              "       -0.95892427, -0.2794155 ,  0.6569866 ,  0.98935825,  0.41211849])"
            ]
          },
          "metadata": {
            "tags": []
          },
          "execution_count": 40
        }
      ]
    },
    {
      "cell_type": "code",
      "metadata": {
        "id": "CeDqreiqKE3d",
        "colab_type": "code",
        "colab": {},
        "outputId": "50c4c493-7fd2-4d3b-c72f-ba32fd8a17c5"
      },
      "source": [
        "f = lambdify(x, expr, \"math\")\n",
        "f(0.1)"
      ],
      "execution_count": null,
      "outputs": [
        {
          "output_type": "execute_result",
          "data": {
            "image/png": "[encoded data removed]",
            "text/latex": "$$0.09983341664682815$$",
            "text/plain": [
              "0.09983341664682815"
            ]
          },
          "metadata": {
            "tags": []
          },
          "execution_count": 42
        }
      ]
    },
    {
      "cell_type": "markdown",
      "metadata": {
        "id": "xbC9WZanKE3f",
        "colab_type": "text"
      },
      "source": [
        "###### sympy_name:numerical_function pairs"
      ]
    },
    {
      "cell_type": "code",
      "metadata": {
        "id": "QWCCK83UKE3f",
        "colab_type": "code",
        "colab": {},
        "outputId": "b54a47ae-8b95-4207-b8d7-9ecaf21b30ac"
      },
      "source": [
        "def mysin(x):\n",
        "    \"\"\"\n",
        "    My sine. Note that this is only accurate for small x.\n",
        "    \"\"\"\n",
        "    return x\n",
        "f = lambdify(x, expr, {\"sin\":mysin})\n",
        "f(0.1)"
      ],
      "execution_count": null,
      "outputs": [
        {
          "output_type": "execute_result",
          "data": {
            "image/png": "[encoded data removed]",
            "text/latex": "$$0.1$$",
            "text/plain": [
              "0.1"
            ]
          },
          "metadata": {
            "tags": []
          },
          "execution_count": 43
        }
      ]
    },
    {
      "cell_type": "markdown",
      "metadata": {
        "id": "4LAMjb0IKE3h",
        "colab_type": "text"
      },
      "source": [
        "###### printing\n",
        "str, srepr, ASCII pretty printer, Unicode pretty printer, LaTeX, MathML, Dot\n",
        "\n",
        "init_session() works\n",
        "1. frm sympy import *\n",
        "2. init_printing()\n",
        "3. common symbols\n"
      ]
    },
    {
      "cell_type": "code",
      "metadata": {
        "id": "FCQxYGD-KE3i",
        "colab_type": "code",
        "colab": {},
        "outputId": "642780ac-bf69-4da7-e9c3-f199190917ad"
      },
      "source": [
        "from sympy import *\n",
        "init_session()"
      ],
      "execution_count": null,
      "outputs": [
        {
          "output_type": "stream",
          "text": [
            "IPython console for SymPy 1.2 (Python 3.6.6-64-bit) (ground types: gmpy)\n",
            "\n",
            "These commands were executed:\n",
            ">>> from __future__ import division\n",
            ">>> from sympy import *\n",
            ">>> x, y, z, t = symbols('x y z t')\n",
            ">>> k, m, n = symbols('k m n', integer=True)\n",
            ">>> f, g, h = symbols('f g h', cls=Function)\n",
            ">>> init_printing()\n",
            "\n",
            "Documentation can be found at http://docs.sympy.org/1.2/\n",
            "\n"
          ],
          "name": "stdout"
        }
      ]
    },
    {
      "cell_type": "markdown",
      "metadata": {
        "id": "keItiTyBKE3j",
        "colab_type": "text"
      },
      "source": [
        "###### continued fractions"
      ]
    },
    {
      "cell_type": "code",
      "metadata": {
        "scrolled": true,
        "id": "QPyhp8qGKE3j",
        "colab_type": "code",
        "colab": {},
        "outputId": "e9a2b728-2f0b-4c56-cad6-2a60deb04bca"
      },
      "source": [
        "from sympy import *\n",
        "init_printing()\n",
        "x,y,z = symbols('x y z')\n",
        "\n",
        "def list_to_frac(l):\n",
        "    expr = Integer(0)\n",
        "    for i in reversed(l[1:]):\n",
        "        expr += i\n",
        "        expr = 1 / expr\n",
        "    return l[0] + expr\n",
        "frac = list_to_frac([x,y,z])\n",
        "frac"
      ],
      "execution_count": null,
      "outputs": [
        {
          "output_type": "execute_result",
          "data": {
            "image/png": "[encoded data removed]",
            "text/latex": "$$x + \\frac{1}{y + \\frac{1}{z}}$$",
            "text/plain": [
              "      1  \n",
              "x + ─────\n",
              "        1\n",
              "    y + ─\n",
              "        z"
            ]
          },
          "metadata": {
            "tags": []
          },
          "execution_count": 3
        }
      ]
    },
    {
      "cell_type": "code",
      "metadata": {
        "id": "DdHklhRKKE3l",
        "colab_type": "code",
        "colab": {},
        "outputId": "4c3ba103-db81-4f2a-8750-aa694daba6ad"
      },
      "source": [
        "list_to_frac([1,2,3,4])"
      ],
      "execution_count": null,
      "outputs": [
        {
          "output_type": "execute_result",
          "data": {
            "image/png": "[encoded data removed]",
            "text/latex": "$$\\frac{43}{30}$$",
            "text/plain": [
              "43\n",
              "──\n",
              "30"
            ]
          },
          "metadata": {
            "tags": []
          },
          "execution_count": 4
        }
      ]
    },
    {
      "cell_type": "code",
      "metadata": {
        "id": "2m8O9YhYKE3m",
        "colab_type": "code",
        "colab": {},
        "outputId": "e74d7992-49d7-4d57-bab9-3a2a180281a7"
      },
      "source": [
        "syms = symbols('a0:5')\n",
        "syms"
      ],
      "execution_count": null,
      "outputs": [
        {
          "output_type": "execute_result",
          "data": {
            "image/png": "[encoded data removed]",
            "text/latex": "$$\\left ( a_{0}, \\quad a_{1}, \\quad a_{2}, \\quad a_{3}, \\quad a_{4}\\right )$$",
            "text/plain": [
              "(a₀, a₁, a₂, a₃, a₄)"
            ]
          },
          "metadata": {
            "tags": []
          },
          "execution_count": 5
        }
      ]
    },
    {
      "cell_type": "code",
      "metadata": {
        "id": "3osy6Pf8KE3o",
        "colab_type": "code",
        "colab": {},
        "outputId": "3abfbde1-c638-4eb4-83cf-8e8d35cc1635"
      },
      "source": [
        "a0, a1, a2, a3, a4 = syms\n",
        "\n",
        "frac = list_to_frac(syms)\n",
        "frac"
      ],
      "execution_count": null,
      "outputs": [
        {
          "output_type": "execute_result",
          "data": {
            "image/png": "[encoded data removed]",
            "text/latex": "$$a_{0} + \\frac{1}{a_{1} + \\frac{1}{a_{2} + \\frac{1}{a_{3} + \\frac{1}{a_{4}}}}}$$",
            "text/plain": [
              "             1        \n",
              "a₀ + ─────────────────\n",
              "               1      \n",
              "     a₁ + ────────────\n",
              "                  1   \n",
              "          a₂ + ───────\n",
              "                    1 \n",
              "               a₃ + ──\n",
              "                    a₄"
            ]
          },
          "metadata": {
            "tags": []
          },
          "execution_count": 6
        }
      ]
    },
    {
      "cell_type": "markdown",
      "metadata": {
        "id": "bVa2IA16KE3p",
        "colab_type": "text"
      },
      "source": [
        "###### cancel"
      ]
    },
    {
      "cell_type": "code",
      "metadata": {
        "id": "DDFuxFmSKE3p",
        "colab_type": "code",
        "colab": {},
        "outputId": "6e9f3765-86d3-4a7c-ef1a-99de6583050a"
      },
      "source": [
        "frac=cancel(frac)\n",
        "frac"
      ],
      "execution_count": null,
      "outputs": [
        {
          "output_type": "execute_result",
          "data": {
            "image/png": "[encoded data removed]",
            "text/latex": "$$\\frac{a_{0} a_{1} a_{2} a_{3} a_{4} + a_{0} a_{1} a_{2} + a_{0} a_{1} a_{4} + a_{0} a_{3} a_{4} + a_{0} + a_{2} a_{3} a_{4} + a_{2} + a_{4}}{a_{1} a_{2} a_{3} a_{4} + a_{1} a_{2} + a_{1} a_{4} + a_{3} a_{4} + 1}$$",
            "text/plain": [
              "a₀⋅a₁⋅a₂⋅a₃⋅a₄ + a₀⋅a₁⋅a₂ + a₀⋅a₁⋅a₄ + a₀⋅a₃⋅a₄ + a₀ + a₂⋅a₃⋅a₄ + a₂ + a₄\n",
              "─────────────────────────────────────────────────────────────────────────\n",
              "                 a₁⋅a₂⋅a₃⋅a₄ + a₁⋅a₂ + a₁⋅a₄ + a₃⋅a₄ + 1                 "
            ]
          },
          "metadata": {
            "tags": []
          },
          "execution_count": 7
        }
      ]
    },
    {
      "cell_type": "code",
      "metadata": {
        "id": "UurOf2e6KE3s",
        "colab_type": "code",
        "colab": {},
        "outputId": "461ad3b5-8cbe-4549-9695-cf08fd16ede4"
      },
      "source": [
        "l=[]\n",
        "frac = apart(frac, a0)\n",
        "frac"
      ],
      "execution_count": null,
      "outputs": [
        {
          "output_type": "execute_result",
          "data": {
            "image/png": "[encoded data removed]",
            "text/latex": "$$a_{0} + \\frac{a_{2} a_{3} a_{4} + a_{2} + a_{4}}{a_{1} a_{2} a_{3} a_{4} + a_{1} a_{2} + a_{1} a_{4} + a_{3} a_{4} + 1}$$",
            "text/plain": [
              "                a₂⋅a₃⋅a₄ + a₂ + a₄          \n",
              "a₀ + ───────────────────────────────────────\n",
              "     a₁⋅a₂⋅a₃⋅a₄ + a₁⋅a₂ + a₁⋅a₄ + a₃⋅a₄ + 1"
            ]
          },
          "metadata": {
            "tags": []
          },
          "execution_count": 8
        }
      ]
    },
    {
      "cell_type": "code",
      "metadata": {
        "id": "Qi7fR870KE3u",
        "colab_type": "code",
        "colab": {},
        "outputId": "6996f1aa-fcfe-4665-cf3f-504f903eb890"
      },
      "source": [
        "l.append(a0)\n",
        "frac = 1/(frac - a0)\n",
        "frac"
      ],
      "execution_count": null,
      "outputs": [
        {
          "output_type": "execute_result",
          "data": {
            "image/png": "[encoded data removed]",
            "text/latex": "$$\\frac{1}{a_{2} a_{3} a_{4} + a_{2} + a_{4}} \\left(a_{1} a_{2} a_{3} a_{4} + a_{1} a_{2} + a_{1} a_{4} + a_{3} a_{4} + 1\\right)$$",
            "text/plain": [
              "a₁⋅a₂⋅a₃⋅a₄ + a₁⋅a₂ + a₁⋅a₄ + a₃⋅a₄ + 1\n",
              "───────────────────────────────────────\n",
              "           a₂⋅a₃⋅a₄ + a₂ + a₄          "
            ]
          },
          "metadata": {
            "tags": []
          },
          "execution_count": 9
        }
      ]
    },
    {
      "cell_type": "code",
      "metadata": {
        "id": "deRQL-7EKE3w",
        "colab_type": "code",
        "colab": {},
        "outputId": "9ba6f0ec-90a8-4d0f-8967-c04777dc5f59"
      },
      "source": [
        "frac = apart(frac, a1)\n",
        "frac"
      ],
      "execution_count": null,
      "outputs": [
        {
          "output_type": "execute_result",
          "data": {
            "image/png": "[encoded data removed]",
            "text/latex": "$$a_{1} + \\frac{a_{3} a_{4} + 1}{a_{2} a_{3} a_{4} + a_{2} + a_{4}}$$",
            "text/plain": [
              "         a₃⋅a₄ + 1     \n",
              "a₁ + ──────────────────\n",
              "     a₂⋅a₃⋅a₄ + a₂ + a₄"
            ]
          },
          "metadata": {
            "tags": []
          },
          "execution_count": 10
        }
      ]
    },
    {
      "cell_type": "code",
      "metadata": {
        "id": "IIZhWDglKE3x",
        "colab_type": "code",
        "colab": {},
        "outputId": "0e1c4827-e002-47b4-8a8d-47428a562c21"
      },
      "source": [
        "l.append(a1)\n",
        "frac = 1/(frac - a1)\n",
        "frac = apart(frac, a2)\n",
        "frac"
      ],
      "execution_count": null,
      "outputs": [
        {
          "output_type": "execute_result",
          "data": {
            "image/png": "[encoded data removed]",
            "text/latex": "$$a_{2} + \\frac{a_{4}}{a_{3} a_{4} + 1}$$",
            "text/plain": [
              "         a₄   \n",
              "a₂ + ─────────\n",
              "     a₃⋅a₄ + 1"
            ]
          },
          "metadata": {
            "tags": []
          },
          "execution_count": 11
        }
      ]
    },
    {
      "cell_type": "code",
      "metadata": {
        "id": "JWALUHkdKE3z",
        "colab_type": "code",
        "colab": {},
        "outputId": "db9f362e-bb94-4b18-b652-b3f0742397b3"
      },
      "source": [
        "l.append(a2)\n",
        "frac = 1/(frac - a2)\n",
        "frac = apart(frac, a3)\n",
        "frac"
      ],
      "execution_count": null,
      "outputs": [
        {
          "output_type": "execute_result",
          "data": {
            "image/png": "[encoded data removed]",
            "text/latex": "$$a_{3} + \\frac{1}{a_{4}}$$",
            "text/plain": [
              "     1 \n",
              "a₃ + ──\n",
              "     a₄"
            ]
          },
          "metadata": {
            "tags": []
          },
          "execution_count": 12
        }
      ]
    },
    {
      "cell_type": "code",
      "metadata": {
        "id": "6b6hFSavKE30",
        "colab_type": "code",
        "colab": {},
        "outputId": "b8798a8b-1e9e-42af-c87c-8131193d3e25"
      },
      "source": [
        "l.append(a3)\n",
        "frac = 1/(frac - a3)\n",
        "frac = apart(frac, a4)\n",
        "frac"
      ],
      "execution_count": null,
      "outputs": [
        {
          "output_type": "execute_result",
          "data": {
            "image/png": "[encoded data removed]",
            "text/latex": "$$a_{4}$$",
            "text/plain": [
              "a₄"
            ]
          },
          "metadata": {
            "tags": []
          },
          "execution_count": 13
        }
      ]
    },
    {
      "cell_type": "code",
      "metadata": {
        "id": "xEa7uig9KE33",
        "colab_type": "code",
        "colab": {},
        "outputId": "c8afd4a9-2ff6-431d-fd9e-a5eeef22a29f"
      },
      "source": [
        "l.append(a4)\n",
        "list_to_frac(l)"
      ],
      "execution_count": null,
      "outputs": [
        {
          "output_type": "execute_result",
          "data": {
            "image/png": "[encoded data removed]",
            "text/latex": "$$a_{0} + \\frac{1}{a_{1} + \\frac{1}{a_{2} + \\frac{1}{a_{3} + \\frac{1}{a_{4}}}}}$$",
            "text/plain": [
              "             1        \n",
              "a₀ + ─────────────────\n",
              "               1      \n",
              "     a₁ + ────────────\n",
              "                  1   \n",
              "          a₂ + ───────\n",
              "                    1 \n",
              "               a₃ + ──\n",
              "                    a₄"
            ]
          },
          "metadata": {
            "tags": []
          },
          "execution_count": 14
        }
      ]
    },
    {
      "cell_type": "code",
      "metadata": {
        "id": "r4LOFLMjKE34",
        "colab_type": "code",
        "colab": {},
        "outputId": "f5615a1e-7296-4d64-e57b-f5b98db3b027"
      },
      "source": [
        "l"
      ],
      "execution_count": null,
      "outputs": [
        {
          "output_type": "execute_result",
          "data": {
            "image/png": "[encoded data removed]",
            "text/latex": "$$\\left [ a_{0}, \\quad a_{1}, \\quad a_{2}, \\quad a_{3}, \\quad a_{4}\\right ]$$",
            "text/plain": [
              "[a₀, a₁, a₂, a₃, a₄]"
            ]
          },
          "metadata": {
            "tags": []
          },
          "execution_count": 15
        }
      ]
    },
    {
      "cell_type": "markdown",
      "metadata": {
        "id": "ea9iFqGwKE35",
        "colab_type": "text"
      },
      "source": [
        "######  random"
      ]
    },
    {
      "cell_type": "code",
      "metadata": {
        "id": "sfv7Qm2QKE36",
        "colab_type": "code",
        "colab": {}
      },
      "source": [
        "import random\n",
        "l = list(symbols('a0:5'))\n",
        "random.shuffle(l)\n",
        "orig_frac = frac = cancel(list_to_frac(l))\n",
        "del l"
      ],
      "execution_count": null,
      "outputs": []
    },
    {
      "cell_type": "code",
      "metadata": {
        "id": "Tppi2cXiKE37",
        "colab_type": "code",
        "colab": {},
        "outputId": "d2395280-bec7-4e7c-af69-c69fa04befc4"
      },
      "source": [
        "frac"
      ],
      "execution_count": null,
      "outputs": [
        {
          "output_type": "execute_result",
          "data": {
            "image/png": "[encoded data removed]",
            "text/latex": "$$\\frac{a_{0} a_{1} a_{2} a_{3} a_{4} + a_{0} a_{1} a_{3} + a_{0} a_{2} a_{4} + a_{0} + a_{1} a_{2} a_{4} + a_{1} a_{3} a_{4} + a_{1} + a_{4}}{a_{0} a_{2} a_{3} a_{4} + a_{0} a_{3} + a_{2} a_{4} + a_{3} a_{4} + 1}$$",
            "text/plain": [
              "a₀⋅a₁⋅a₂⋅a₃⋅a₄ + a₀⋅a₁⋅a₃ + a₀⋅a₂⋅a₄ + a₀ + a₁⋅a₂⋅a₄ + a₁⋅a₃⋅a₄ + a₁ + a₄\n",
              "─────────────────────────────────────────────────────────────────────────\n",
              "                 a₀⋅a₂⋅a₃⋅a₄ + a₀⋅a₃ + a₂⋅a₄ + a₃⋅a₄ + 1                 "
            ]
          },
          "metadata": {
            "tags": []
          },
          "execution_count": 35
        }
      ]
    },
    {
      "cell_type": "code",
      "metadata": {
        "id": "lS3I3hrbKE39",
        "colab_type": "code",
        "colab": {},
        "outputId": "129f3f7b-3414-46e9-b465-4c4ba62666bb"
      },
      "source": [
        "l=[]\n",
        "frac = apart(frac, a1)\n",
        "frac"
      ],
      "execution_count": null,
      "outputs": [
        {
          "output_type": "execute_result",
          "data": {
            "image/png": "[encoded data removed]",
            "text/latex": "$$a_{1} + \\frac{a_{0} a_{2} a_{4} + a_{0} + a_{4}}{a_{0} a_{2} a_{3} a_{4} + a_{0} a_{3} + a_{2} a_{4} + a_{3} a_{4} + 1}$$",
            "text/plain": [
              "                a₀⋅a₂⋅a₄ + a₀ + a₄          \n",
              "a₁ + ───────────────────────────────────────\n",
              "     a₀⋅a₂⋅a₃⋅a₄ + a₀⋅a₃ + a₂⋅a₄ + a₃⋅a₄ + 1"
            ]
          },
          "metadata": {
            "tags": []
          },
          "execution_count": 36
        }
      ]
    },
    {
      "cell_type": "code",
      "metadata": {
        "id": "TDlZI6ztKE3_",
        "colab_type": "code",
        "colab": {},
        "outputId": "1d2d6f7d-7e22-411c-eb40-e5bacc958584"
      },
      "source": [
        "l.append(a1)\n",
        "frac = 1/(frac - a1)\n",
        "frac"
      ],
      "execution_count": null,
      "outputs": [
        {
          "output_type": "execute_result",
          "data": {
            "image/png": "[encoded data removed]",
            "text/latex": "$$\\frac{1}{a_{0} a_{2} a_{4} + a_{0} + a_{4}} \\left(a_{0} a_{2} a_{3} a_{4} + a_{0} a_{3} + a_{2} a_{4} + a_{3} a_{4} + 1\\right)$$",
            "text/plain": [
              "a₀⋅a₂⋅a₃⋅a₄ + a₀⋅a₃ + a₂⋅a₄ + a₃⋅a₄ + 1\n",
              "───────────────────────────────────────\n",
              "           a₀⋅a₂⋅a₄ + a₀ + a₄          "
            ]
          },
          "metadata": {
            "tags": []
          },
          "execution_count": 37
        }
      ]
    },
    {
      "cell_type": "code",
      "metadata": {
        "id": "1JCsnSR7KE4A",
        "colab_type": "code",
        "colab": {},
        "outputId": "a620103c-f03a-4c3f-e7c7-93f85064a8ff"
      },
      "source": [
        "frac = apart(frac, a3)\n",
        "frac"
      ],
      "execution_count": null,
      "outputs": [
        {
          "output_type": "execute_result",
          "data": {
            "image/png": "[encoded data removed]",
            "text/latex": "$$a_{3} + \\frac{a_{2} a_{4} + 1}{a_{0} a_{2} a_{4} + a_{0} + a_{4}}$$",
            "text/plain": [
              "         a₂⋅a₄ + 1     \n",
              "a₃ + ──────────────────\n",
              "     a₀⋅a₂⋅a₄ + a₀ + a₄"
            ]
          },
          "metadata": {
            "tags": []
          },
          "execution_count": 38
        }
      ]
    },
    {
      "cell_type": "code",
      "metadata": {
        "id": "lw5qrH9kKE4C",
        "colab_type": "code",
        "colab": {},
        "outputId": "a8add630-08f5-4026-b634-f77135ab4196"
      },
      "source": [
        "l.append(a3)\n",
        "frac = 1/(frac - a3)\n",
        "frac"
      ],
      "execution_count": null,
      "outputs": [
        {
          "output_type": "execute_result",
          "data": {
            "image/png": "[encoded data removed]",
            "text/latex": "$$\\frac{a_{0} a_{2} a_{4} + a_{0} + a_{4}}{a_{2} a_{4} + 1}$$",
            "text/plain": [
              "a₀⋅a₂⋅a₄ + a₀ + a₄\n",
              "──────────────────\n",
              "    a₂⋅a₄ + 1     "
            ]
          },
          "metadata": {
            "tags": []
          },
          "execution_count": 39
        }
      ]
    },
    {
      "cell_type": "code",
      "metadata": {
        "id": "5tqM03WRKE4E",
        "colab_type": "code",
        "colab": {},
        "outputId": "cfd8b3c0-0e8a-4087-ccb5-0d976d24e631"
      },
      "source": [
        "frac = apart(frac, a0)\n",
        "frac"
      ],
      "execution_count": null,
      "outputs": [
        {
          "output_type": "execute_result",
          "data": {
            "image/png": "[encoded data removed]",
            "text/latex": "$$a_{0} + \\frac{a_{4}}{a_{2} a_{4} + 1}$$",
            "text/plain": [
              "         a₄   \n",
              "a₀ + ─────────\n",
              "     a₂⋅a₄ + 1"
            ]
          },
          "metadata": {
            "tags": []
          },
          "execution_count": 40
        }
      ]
    },
    {
      "cell_type": "code",
      "metadata": {
        "id": "04zCziP-KE4G",
        "colab_type": "code",
        "colab": {},
        "outputId": "53ae26d4-35e2-4b72-8bae-6e28a1a2e09a"
      },
      "source": [
        "l.append(a0)\n",
        "frac = 1/(frac - a0)\n",
        "frac"
      ],
      "execution_count": null,
      "outputs": [
        {
          "output_type": "execute_result",
          "data": {
            "image/png": "[encoded data removed]",
            "text/latex": "$$\\frac{1}{a_{4}} \\left(a_{2} a_{4} + 1\\right)$$",
            "text/plain": [
              "a₂⋅a₄ + 1\n",
              "─────────\n",
              "    a₄   "
            ]
          },
          "metadata": {
            "tags": []
          },
          "execution_count": 41
        }
      ]
    },
    {
      "cell_type": "code",
      "metadata": {
        "id": "CxGrriijKE4L",
        "colab_type": "code",
        "colab": {},
        "outputId": "4831d4c4-f819-43e6-b410-05d47b7db787"
      },
      "source": [
        "frac = apart(frac, a2)\n",
        "frac"
      ],
      "execution_count": null,
      "outputs": [
        {
          "output_type": "execute_result",
          "data": {
            "image/png": "[encoded data removed]",
            "text/latex": "$$a_{2} + \\frac{1}{a_{4}}$$",
            "text/plain": [
              "     1 \n",
              "a₂ + ──\n",
              "     a₄"
            ]
          },
          "metadata": {
            "tags": []
          },
          "execution_count": 42
        }
      ]
    },
    {
      "cell_type": "code",
      "metadata": {
        "id": "GFQZKtNDKE4N",
        "colab_type": "code",
        "colab": {},
        "outputId": "7f350bb8-abfe-4d93-fdf5-5ac4c1101c4f"
      },
      "source": [
        "l.append(a2)\n",
        "frac = 1/(frac - a2)\n",
        "frac"
      ],
      "execution_count": null,
      "outputs": [
        {
          "output_type": "execute_result",
          "data": {
            "image/png": "[encoded data removed]",
            "text/latex": "$$a_{4}$$",
            "text/plain": [
              "a₄"
            ]
          },
          "metadata": {
            "tags": []
          },
          "execution_count": 43
        }
      ]
    },
    {
      "cell_type": "code",
      "metadata": {
        "id": "8pVvMxbNKE4P",
        "colab_type": "code",
        "colab": {},
        "outputId": "d1169ad5-5df2-479b-9314-87e37b59d2f9"
      },
      "source": [
        "frac = apart(frac, a4)\n",
        "frac"
      ],
      "execution_count": null,
      "outputs": [
        {
          "output_type": "execute_result",
          "data": {
            "image/png": "[encoded data removed]",
            "text/latex": "$$a_{4}$$",
            "text/plain": [
              "a₄"
            ]
          },
          "metadata": {
            "tags": []
          },
          "execution_count": 44
        }
      ]
    },
    {
      "cell_type": "code",
      "metadata": {
        "id": "7YD4ciz6KE4R",
        "colab_type": "code",
        "colab": {},
        "outputId": "3bd1cf75-7d73-410a-8a5c-0baa03180a04"
      },
      "source": [
        "l.append(a4)\n",
        "list_to_frac(l)"
      ],
      "execution_count": null,
      "outputs": [
        {
          "output_type": "execute_result",
          "data": {
            "image/png": "[encoded data removed]",
            "text/latex": "$$a_{1} + \\frac{1}{a_{3} + \\frac{1}{a_{0} + \\frac{1}{a_{2} + \\frac{1}{a_{4}}}}}$$",
            "text/plain": [
              "             1        \n",
              "a₁ + ─────────────────\n",
              "               1      \n",
              "     a₃ + ────────────\n",
              "                  1   \n",
              "          a₀ + ───────\n",
              "                    1 \n",
              "               a₂ + ──\n",
              "                    a₄"
            ]
          },
          "metadata": {
            "tags": []
          },
          "execution_count": 45
        }
      ]
    },
    {
      "cell_type": "code",
      "metadata": {
        "id": "bOXxefPLKE4T",
        "colab_type": "code",
        "colab": {},
        "outputId": "ea6889c1-742b-417c-fe84-47d11ccc4242"
      },
      "source": [
        "l"
      ],
      "execution_count": null,
      "outputs": [
        {
          "output_type": "execute_result",
          "data": {
            "image/png": "[encoded data removed]",
            "text/latex": "$$\\left [ a_{1}, \\quad a_{3}, \\quad a_{0}, \\quad a_{2}, \\quad a_{4}\\right ]$$",
            "text/plain": [
              "[a₁, a₃, a₀, a₂, a₄]"
            ]
          },
          "metadata": {
            "tags": []
          },
          "execution_count": 46
        }
      ]
    },
    {
      "cell_type": "code",
      "metadata": {
        "id": "6VGLvicYKE4U",
        "colab_type": "code",
        "colab": {},
        "outputId": "bded309a-7f06-489d-cf63-010447d007c6"
      },
      "source": [
        "orig_frac"
      ],
      "execution_count": null,
      "outputs": [
        {
          "output_type": "execute_result",
          "data": {
            "image/png": "[encoded data removed]",
            "text/latex": "$$\\frac{a_{0} a_{1} a_{2} a_{3} a_{4} + a_{0} a_{1} a_{3} + a_{0} a_{2} a_{4} + a_{0} + a_{1} a_{2} a_{4} + a_{1} a_{3} a_{4} + a_{1} + a_{4}}{a_{0} a_{2} a_{3} a_{4} + a_{0} a_{3} + a_{2} a_{4} + a_{3} a_{4} + 1}$$",
            "text/plain": [
              "a₀⋅a₁⋅a₂⋅a₃⋅a₄ + a₀⋅a₁⋅a₃ + a₀⋅a₂⋅a₄ + a₀ + a₁⋅a₂⋅a₄ + a₁⋅a₃⋅a₄ + a₁ + a₄\n",
              "─────────────────────────────────────────────────────────────────────────\n",
              "                 a₀⋅a₂⋅a₃⋅a₄ + a₀⋅a₃ + a₂⋅a₄ + a₃⋅a₄ + 1                 "
            ]
          },
          "metadata": {
            "tags": []
          },
          "execution_count": 47
        }
      ]
    },
    {
      "cell_type": "code",
      "metadata": {
        "id": "xIOvdE6mKE4W",
        "colab_type": "code",
        "colab": {},
        "outputId": "e88d9b1d-d67d-47cb-f7c3-3d27a566544e"
      },
      "source": [
        "cancel(list_to_frac(l))"
      ],
      "execution_count": null,
      "outputs": [
        {
          "output_type": "execute_result",
          "data": {
            "image/png": "[encoded data removed]",
            "text/latex": "$$\\frac{a_{0} a_{1} a_{2} a_{3} a_{4} + a_{0} a_{1} a_{3} + a_{0} a_{2} a_{4} + a_{0} + a_{1} a_{2} a_{4} + a_{1} a_{3} a_{4} + a_{1} + a_{4}}{a_{0} a_{2} a_{3} a_{4} + a_{0} a_{3} + a_{2} a_{4} + a_{3} a_{4} + 1}$$",
            "text/plain": [
              "a₀⋅a₁⋅a₂⋅a₃⋅a₄ + a₀⋅a₁⋅a₃ + a₀⋅a₂⋅a₄ + a₀ + a₁⋅a₂⋅a₄ + a₁⋅a₃⋅a₄ + a₁ + a₄\n",
              "─────────────────────────────────────────────────────────────────────────\n",
              "                 a₀⋅a₂⋅a₃⋅a₄ + a₀⋅a₃ + a₂⋅a₄ + a₃⋅a₄ + 1                 "
            ]
          },
          "metadata": {
            "tags": []
          },
          "execution_count": 48
        }
      ]
    },
    {
      "cell_type": "markdown",
      "metadata": {
        "id": "YLKFJZv1KE4X",
        "colab_type": "text"
      },
      "source": [
        "######  end of file mathwithpython01"
      ]
    },
    {
      "cell_type": "code",
      "metadata": {
        "id": "uvirtmlYKE4X",
        "colab_type": "code",
        "colab": {}
      },
      "source": [
        ""
      ],
      "execution_count": null,
      "outputs": []
    },
    {
      "cell_type": "code",
      "metadata": {
        "id": "YiNhV91CKE4Y",
        "colab_type": "code",
        "colab": {}
      },
      "source": [
        ""
      ],
      "execution_count": null,
      "outputs": []
    }
  ]
}